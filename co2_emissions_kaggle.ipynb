{
 "cells": [
  {
   "cell_type": "code",
   "execution_count": 86,
   "metadata": {},
   "outputs": [],
   "source": [
    "import pandas as pd\n",
    "from matplotlib import pyplot as plt"
   ]
  },
  {
   "cell_type": "code",
   "execution_count": 87,
   "metadata": {},
   "outputs": [],
   "source": [
    "train= pd.read_csv(r\"C:\\Users\\HP\\Desktop\\learn\\co2_emissions\\train.csv\")\n",
    "test= pd.read_csv(r\"C:\\Users\\HP\\Desktop\\learn\\co2_emissions\\test.csv\")"
   ]
  },
  {
   "cell_type": "code",
   "execution_count": 88,
   "metadata": {},
   "outputs": [
    {
     "data": {
      "text/html": [
       "<div>\n",
       "<style scoped>\n",
       "    .dataframe tbody tr th:only-of-type {\n",
       "        vertical-align: middle;\n",
       "    }\n",
       "\n",
       "    .dataframe tbody tr th {\n",
       "        vertical-align: top;\n",
       "    }\n",
       "\n",
       "    .dataframe thead th {\n",
       "        text-align: right;\n",
       "    }\n",
       "</style>\n",
       "<table border=\"1\" class=\"dataframe\">\n",
       "  <thead>\n",
       "    <tr style=\"text-align: right;\">\n",
       "      <th></th>\n",
       "      <th>ID_LAT_LON_YEAR_WEEK</th>\n",
       "      <th>latitude</th>\n",
       "      <th>longitude</th>\n",
       "      <th>year</th>\n",
       "      <th>week_no</th>\n",
       "      <th>SulphurDioxide_SO2_column_number_density</th>\n",
       "      <th>SulphurDioxide_SO2_column_number_density_amf</th>\n",
       "      <th>SulphurDioxide_SO2_slant_column_number_density</th>\n",
       "      <th>SulphurDioxide_cloud_fraction</th>\n",
       "      <th>SulphurDioxide_sensor_azimuth_angle</th>\n",
       "      <th>...</th>\n",
       "      <th>Cloud_cloud_top_height</th>\n",
       "      <th>Cloud_cloud_base_pressure</th>\n",
       "      <th>Cloud_cloud_base_height</th>\n",
       "      <th>Cloud_cloud_optical_depth</th>\n",
       "      <th>Cloud_surface_albedo</th>\n",
       "      <th>Cloud_sensor_azimuth_angle</th>\n",
       "      <th>Cloud_sensor_zenith_angle</th>\n",
       "      <th>Cloud_solar_azimuth_angle</th>\n",
       "      <th>Cloud_solar_zenith_angle</th>\n",
       "      <th>emission</th>\n",
       "    </tr>\n",
       "  </thead>\n",
       "  <tbody>\n",
       "    <tr>\n",
       "      <th>0</th>\n",
       "      <td>ID_-0.510_29.290_2019_00</td>\n",
       "      <td>-0.51</td>\n",
       "      <td>29.29</td>\n",
       "      <td>2019</td>\n",
       "      <td>0</td>\n",
       "      <td>-0.000108</td>\n",
       "      <td>0.603019</td>\n",
       "      <td>-0.000065</td>\n",
       "      <td>0.255668</td>\n",
       "      <td>-98.593887</td>\n",
       "      <td>...</td>\n",
       "      <td>3664.436218</td>\n",
       "      <td>61085.809570</td>\n",
       "      <td>2615.120483</td>\n",
       "      <td>15.568533</td>\n",
       "      <td>0.272292</td>\n",
       "      <td>-12.628986</td>\n",
       "      <td>35.632416</td>\n",
       "      <td>-138.786423</td>\n",
       "      <td>30.752140</td>\n",
       "      <td>3.750994</td>\n",
       "    </tr>\n",
       "    <tr>\n",
       "      <th>1</th>\n",
       "      <td>ID_-0.510_29.290_2019_01</td>\n",
       "      <td>-0.51</td>\n",
       "      <td>29.29</td>\n",
       "      <td>2019</td>\n",
       "      <td>1</td>\n",
       "      <td>0.000021</td>\n",
       "      <td>0.728214</td>\n",
       "      <td>0.000014</td>\n",
       "      <td>0.130988</td>\n",
       "      <td>16.592861</td>\n",
       "      <td>...</td>\n",
       "      <td>3651.190311</td>\n",
       "      <td>66969.478735</td>\n",
       "      <td>3174.572424</td>\n",
       "      <td>8.690601</td>\n",
       "      <td>0.256830</td>\n",
       "      <td>30.359375</td>\n",
       "      <td>39.557633</td>\n",
       "      <td>-145.183930</td>\n",
       "      <td>27.251779</td>\n",
       "      <td>4.025176</td>\n",
       "    </tr>\n",
       "    <tr>\n",
       "      <th>2</th>\n",
       "      <td>ID_-0.510_29.290_2019_02</td>\n",
       "      <td>-0.51</td>\n",
       "      <td>29.29</td>\n",
       "      <td>2019</td>\n",
       "      <td>2</td>\n",
       "      <td>0.000514</td>\n",
       "      <td>0.748199</td>\n",
       "      <td>0.000385</td>\n",
       "      <td>0.110018</td>\n",
       "      <td>72.795837</td>\n",
       "      <td>...</td>\n",
       "      <td>4216.986492</td>\n",
       "      <td>60068.894448</td>\n",
       "      <td>3516.282669</td>\n",
       "      <td>21.103410</td>\n",
       "      <td>0.251101</td>\n",
       "      <td>15.377883</td>\n",
       "      <td>30.401823</td>\n",
       "      <td>-142.519545</td>\n",
       "      <td>26.193296</td>\n",
       "      <td>4.231381</td>\n",
       "    </tr>\n",
       "    <tr>\n",
       "      <th>3</th>\n",
       "      <td>ID_-0.510_29.290_2019_03</td>\n",
       "      <td>-0.51</td>\n",
       "      <td>29.29</td>\n",
       "      <td>2019</td>\n",
       "      <td>3</td>\n",
       "      <td>NaN</td>\n",
       "      <td>NaN</td>\n",
       "      <td>NaN</td>\n",
       "      <td>NaN</td>\n",
       "      <td>NaN</td>\n",
       "      <td>...</td>\n",
       "      <td>5228.507736</td>\n",
       "      <td>51064.547339</td>\n",
       "      <td>4180.973322</td>\n",
       "      <td>15.386899</td>\n",
       "      <td>0.262043</td>\n",
       "      <td>-11.293399</td>\n",
       "      <td>24.380357</td>\n",
       "      <td>-132.665828</td>\n",
       "      <td>28.829155</td>\n",
       "      <td>4.305286</td>\n",
       "    </tr>\n",
       "    <tr>\n",
       "      <th>4</th>\n",
       "      <td>ID_-0.510_29.290_2019_04</td>\n",
       "      <td>-0.51</td>\n",
       "      <td>29.29</td>\n",
       "      <td>2019</td>\n",
       "      <td>4</td>\n",
       "      <td>-0.000079</td>\n",
       "      <td>0.676296</td>\n",
       "      <td>-0.000048</td>\n",
       "      <td>0.121164</td>\n",
       "      <td>4.121269</td>\n",
       "      <td>...</td>\n",
       "      <td>3980.598120</td>\n",
       "      <td>63751.125781</td>\n",
       "      <td>3355.710107</td>\n",
       "      <td>8.114694</td>\n",
       "      <td>0.235847</td>\n",
       "      <td>38.532263</td>\n",
       "      <td>37.392979</td>\n",
       "      <td>-141.509805</td>\n",
       "      <td>22.204612</td>\n",
       "      <td>4.347317</td>\n",
       "    </tr>\n",
       "  </tbody>\n",
       "</table>\n",
       "<p>5 rows × 76 columns</p>\n",
       "</div>"
      ],
      "text/plain": [
       "       ID_LAT_LON_YEAR_WEEK  latitude  longitude  year  week_no  \\\n",
       "0  ID_-0.510_29.290_2019_00     -0.51      29.29  2019        0   \n",
       "1  ID_-0.510_29.290_2019_01     -0.51      29.29  2019        1   \n",
       "2  ID_-0.510_29.290_2019_02     -0.51      29.29  2019        2   \n",
       "3  ID_-0.510_29.290_2019_03     -0.51      29.29  2019        3   \n",
       "4  ID_-0.510_29.290_2019_04     -0.51      29.29  2019        4   \n",
       "\n",
       "   SulphurDioxide_SO2_column_number_density  \\\n",
       "0                                 -0.000108   \n",
       "1                                  0.000021   \n",
       "2                                  0.000514   \n",
       "3                                       NaN   \n",
       "4                                 -0.000079   \n",
       "\n",
       "   SulphurDioxide_SO2_column_number_density_amf  \\\n",
       "0                                      0.603019   \n",
       "1                                      0.728214   \n",
       "2                                      0.748199   \n",
       "3                                           NaN   \n",
       "4                                      0.676296   \n",
       "\n",
       "   SulphurDioxide_SO2_slant_column_number_density  \\\n",
       "0                                       -0.000065   \n",
       "1                                        0.000014   \n",
       "2                                        0.000385   \n",
       "3                                             NaN   \n",
       "4                                       -0.000048   \n",
       "\n",
       "   SulphurDioxide_cloud_fraction  SulphurDioxide_sensor_azimuth_angle  ...  \\\n",
       "0                       0.255668                           -98.593887  ...   \n",
       "1                       0.130988                            16.592861  ...   \n",
       "2                       0.110018                            72.795837  ...   \n",
       "3                            NaN                                  NaN  ...   \n",
       "4                       0.121164                             4.121269  ...   \n",
       "\n",
       "   Cloud_cloud_top_height  Cloud_cloud_base_pressure  Cloud_cloud_base_height  \\\n",
       "0             3664.436218               61085.809570              2615.120483   \n",
       "1             3651.190311               66969.478735              3174.572424   \n",
       "2             4216.986492               60068.894448              3516.282669   \n",
       "3             5228.507736               51064.547339              4180.973322   \n",
       "4             3980.598120               63751.125781              3355.710107   \n",
       "\n",
       "   Cloud_cloud_optical_depth  Cloud_surface_albedo  \\\n",
       "0                  15.568533              0.272292   \n",
       "1                   8.690601              0.256830   \n",
       "2                  21.103410              0.251101   \n",
       "3                  15.386899              0.262043   \n",
       "4                   8.114694              0.235847   \n",
       "\n",
       "   Cloud_sensor_azimuth_angle  Cloud_sensor_zenith_angle  \\\n",
       "0                  -12.628986                  35.632416   \n",
       "1                   30.359375                  39.557633   \n",
       "2                   15.377883                  30.401823   \n",
       "3                  -11.293399                  24.380357   \n",
       "4                   38.532263                  37.392979   \n",
       "\n",
       "   Cloud_solar_azimuth_angle  Cloud_solar_zenith_angle  emission  \n",
       "0                -138.786423                 30.752140  3.750994  \n",
       "1                -145.183930                 27.251779  4.025176  \n",
       "2                -142.519545                 26.193296  4.231381  \n",
       "3                -132.665828                 28.829155  4.305286  \n",
       "4                -141.509805                 22.204612  4.347317  \n",
       "\n",
       "[5 rows x 76 columns]"
      ]
     },
     "execution_count": 88,
     "metadata": {},
     "output_type": "execute_result"
    }
   ],
   "source": [
    "train.head()"
   ]
  },
  {
   "cell_type": "code",
   "execution_count": 89,
   "metadata": {},
   "outputs": [],
   "source": [
    "td=train.dtypes"
   ]
  },
  {
   "cell_type": "code",
   "execution_count": 90,
   "metadata": {},
   "outputs": [],
   "source": [
    "grouped = train.columns.to_series().groupby(train.dtypes).groups"
   ]
  },
  {
   "cell_type": "code",
   "execution_count": 91,
   "metadata": {},
   "outputs": [
    {
     "data": {
      "image/png": "[encoded data removed]",
      "text/plain": [
       "<Figure size 1500x600 with 1 Axes>"
      ]
     },
     "metadata": {},
     "output_type": "display_data"
    }
   ],
   "source": [
    "missing_values = train.isnull().sum()\n",
    "\n",
    "plt.figure(figsize=(15, 6))\n",
    "plt.bar(missing_values.index, missing_values.values, color='skyblue')\n",
    "plt.xlabel('Columns')\n",
    "plt.ylabel('Number of Missing Values')\n",
    "# plt.title('Missing Values by Column')\n",
    "# plt.xticks(rotation=45)\n",
    "plt.tight_layout()\n",
    "\n",
    "plt.show()"
   ]
  },
  {
   "cell_type": "code",
   "execution_count": 92,
   "metadata": {},
   "outputs": [
    {
     "name": "stdout",
     "output_type": "stream",
     "text": [
      "The test dataset is 23.6 % of the whole dataset\n"
     ]
    }
   ],
   "source": [
    "test_to_train_ratio= test.shape[0]/(train.shape[0]+test.shape[0])\n",
    "print(f\"The test dataset is {test_to_train_ratio*100:4.1f} % of the whole dataset\")"
   ]
  },
  {
   "cell_type": "code",
   "execution_count": 93,
   "metadata": {},
   "outputs": [
    {
     "data": {
      "text/plain": [
       "78526"
      ]
     },
     "execution_count": 93,
     "metadata": {},
     "output_type": "execute_result"
    }
   ],
   "source": [
    "train[['latitude','longitude']].duplicated().sum()"
   ]
  },
  {
   "cell_type": "code",
   "execution_count": 94,
   "metadata": {},
   "outputs": [
    {
     "name": "stdout",
     "output_type": "stream",
     "text": [
      "There are 497, 497 duplicated row in train and test, respectively.\n"
     ]
    }
   ],
   "source": [
    "number_of_duplicate_cord_train = train.shape[0] - train[['latitude','longitude']].duplicated().sum()\n",
    "number_of_duplicate_cord_test = test.shape[0] - test[['latitude','longitude']].duplicated().sum()\n",
    "print(f\"There are {number_of_duplicate_cord_train}, {number_of_duplicate_cord_test} duplicated row in train and test, respectively.\")"
   ]
  },
  {
   "cell_type": "code",
   "execution_count": 95,
   "metadata": {},
   "outputs": [
    {
     "data": {
      "text/html": [
       "<div>\n",
       "<style scoped>\n",
       "    .dataframe tbody tr th:only-of-type {\n",
       "        vertical-align: middle;\n",
       "    }\n",
       "\n",
       "    .dataframe tbody tr th {\n",
       "        vertical-align: top;\n",
       "    }\n",
       "\n",
       "    .dataframe thead th {\n",
       "        text-align: right;\n",
       "    }\n",
       "</style>\n",
       "<table border=\"1\" class=\"dataframe\">\n",
       "  <thead>\n",
       "    <tr style=\"text-align: right;\">\n",
       "      <th></th>\n",
       "      <th>ID_LAT_LON_YEAR_WEEK</th>\n",
       "      <th>latitude</th>\n",
       "      <th>longitude</th>\n",
       "      <th>year</th>\n",
       "      <th>week_no</th>\n",
       "      <th>SulphurDioxide_SO2_column_number_density</th>\n",
       "      <th>SulphurDioxide_SO2_column_number_density_amf</th>\n",
       "      <th>SulphurDioxide_SO2_slant_column_number_density</th>\n",
       "      <th>SulphurDioxide_cloud_fraction</th>\n",
       "      <th>SulphurDioxide_sensor_azimuth_angle</th>\n",
       "      <th>...</th>\n",
       "      <th>Cloud_cloud_top_height</th>\n",
       "      <th>Cloud_cloud_base_pressure</th>\n",
       "      <th>Cloud_cloud_base_height</th>\n",
       "      <th>Cloud_cloud_optical_depth</th>\n",
       "      <th>Cloud_surface_albedo</th>\n",
       "      <th>Cloud_sensor_azimuth_angle</th>\n",
       "      <th>Cloud_sensor_zenith_angle</th>\n",
       "      <th>Cloud_solar_azimuth_angle</th>\n",
       "      <th>Cloud_solar_zenith_angle</th>\n",
       "      <th>emission</th>\n",
       "    </tr>\n",
       "  </thead>\n",
       "  <tbody>\n",
       "    <tr>\n",
       "      <th>0</th>\n",
       "      <td>ID_-0.510_29.290_2019_00</td>\n",
       "      <td>-0.51</td>\n",
       "      <td>29.29</td>\n",
       "      <td>2019</td>\n",
       "      <td>0</td>\n",
       "      <td>-0.000108</td>\n",
       "      <td>0.603019</td>\n",
       "      <td>-0.000065</td>\n",
       "      <td>0.255668</td>\n",
       "      <td>-98.593887</td>\n",
       "      <td>...</td>\n",
       "      <td>3664.436218</td>\n",
       "      <td>61085.809570</td>\n",
       "      <td>2615.120483</td>\n",
       "      <td>15.568533</td>\n",
       "      <td>0.272292</td>\n",
       "      <td>-12.628986</td>\n",
       "      <td>35.632416</td>\n",
       "      <td>-138.786423</td>\n",
       "      <td>30.752140</td>\n",
       "      <td>3.750994</td>\n",
       "    </tr>\n",
       "    <tr>\n",
       "      <th>1</th>\n",
       "      <td>ID_-0.510_29.290_2019_01</td>\n",
       "      <td>-0.51</td>\n",
       "      <td>29.29</td>\n",
       "      <td>2019</td>\n",
       "      <td>1</td>\n",
       "      <td>0.000021</td>\n",
       "      <td>0.728214</td>\n",
       "      <td>0.000014</td>\n",
       "      <td>0.130988</td>\n",
       "      <td>16.592861</td>\n",
       "      <td>...</td>\n",
       "      <td>3651.190311</td>\n",
       "      <td>66969.478735</td>\n",
       "      <td>3174.572424</td>\n",
       "      <td>8.690601</td>\n",
       "      <td>0.256830</td>\n",
       "      <td>30.359375</td>\n",
       "      <td>39.557633</td>\n",
       "      <td>-145.183930</td>\n",
       "      <td>27.251779</td>\n",
       "      <td>4.025176</td>\n",
       "    </tr>\n",
       "    <tr>\n",
       "      <th>2</th>\n",
       "      <td>ID_-0.510_29.290_2019_02</td>\n",
       "      <td>-0.51</td>\n",
       "      <td>29.29</td>\n",
       "      <td>2019</td>\n",
       "      <td>2</td>\n",
       "      <td>0.000514</td>\n",
       "      <td>0.748199</td>\n",
       "      <td>0.000385</td>\n",
       "      <td>0.110018</td>\n",
       "      <td>72.795837</td>\n",
       "      <td>...</td>\n",
       "      <td>4216.986492</td>\n",
       "      <td>60068.894448</td>\n",
       "      <td>3516.282669</td>\n",
       "      <td>21.103410</td>\n",
       "      <td>0.251101</td>\n",
       "      <td>15.377883</td>\n",
       "      <td>30.401823</td>\n",
       "      <td>-142.519545</td>\n",
       "      <td>26.193296</td>\n",
       "      <td>4.231381</td>\n",
       "    </tr>\n",
       "    <tr>\n",
       "      <th>3</th>\n",
       "      <td>ID_-0.510_29.290_2019_03</td>\n",
       "      <td>-0.51</td>\n",
       "      <td>29.29</td>\n",
       "      <td>2019</td>\n",
       "      <td>3</td>\n",
       "      <td>NaN</td>\n",
       "      <td>NaN</td>\n",
       "      <td>NaN</td>\n",
       "      <td>NaN</td>\n",
       "      <td>NaN</td>\n",
       "      <td>...</td>\n",
       "      <td>5228.507736</td>\n",
       "      <td>51064.547339</td>\n",
       "      <td>4180.973322</td>\n",
       "      <td>15.386899</td>\n",
       "      <td>0.262043</td>\n",
       "      <td>-11.293399</td>\n",
       "      <td>24.380357</td>\n",
       "      <td>-132.665828</td>\n",
       "      <td>28.829155</td>\n",
       "      <td>4.305286</td>\n",
       "    </tr>\n",
       "    <tr>\n",
       "      <th>4</th>\n",
       "      <td>ID_-0.510_29.290_2019_04</td>\n",
       "      <td>-0.51</td>\n",
       "      <td>29.29</td>\n",
       "      <td>2019</td>\n",
       "      <td>4</td>\n",
       "      <td>-0.000079</td>\n",
       "      <td>0.676296</td>\n",
       "      <td>-0.000048</td>\n",
       "      <td>0.121164</td>\n",
       "      <td>4.121269</td>\n",
       "      <td>...</td>\n",
       "      <td>3980.598120</td>\n",
       "      <td>63751.125781</td>\n",
       "      <td>3355.710107</td>\n",
       "      <td>8.114694</td>\n",
       "      <td>0.235847</td>\n",
       "      <td>38.532263</td>\n",
       "      <td>37.392979</td>\n",
       "      <td>-141.509805</td>\n",
       "      <td>22.204612</td>\n",
       "      <td>4.347317</td>\n",
       "    </tr>\n",
       "  </tbody>\n",
       "</table>\n",
       "<p>5 rows × 76 columns</p>\n",
       "</div>"
      ],
      "text/plain": [
       "       ID_LAT_LON_YEAR_WEEK  latitude  longitude  year  week_no  \\\n",
       "0  ID_-0.510_29.290_2019_00     -0.51      29.29  2019        0   \n",
       "1  ID_-0.510_29.290_2019_01     -0.51      29.29  2019        1   \n",
       "2  ID_-0.510_29.290_2019_02     -0.51      29.29  2019        2   \n",
       "3  ID_-0.510_29.290_2019_03     -0.51      29.29  2019        3   \n",
       "4  ID_-0.510_29.290_2019_04     -0.51      29.29  2019        4   \n",
       "\n",
       "   SulphurDioxide_SO2_column_number_density  \\\n",
       "0                                 -0.000108   \n",
       "1                                  0.000021   \n",
       "2                                  0.000514   \n",
       "3                                       NaN   \n",
       "4                                 -0.000079   \n",
       "\n",
       "   SulphurDioxide_SO2_column_number_density_amf  \\\n",
       "0                                      0.603019   \n",
       "1                                      0.728214   \n",
       "2                                      0.748199   \n",
       "3                                           NaN   \n",
       "4                                      0.676296   \n",
       "\n",
       "   SulphurDioxide_SO2_slant_column_number_density  \\\n",
       "0                                       -0.000065   \n",
       "1                                        0.000014   \n",
       "2                                        0.000385   \n",
       "3                                             NaN   \n",
       "4                                       -0.000048   \n",
       "\n",
       "   SulphurDioxide_cloud_fraction  SulphurDioxide_sensor_azimuth_angle  ...  \\\n",
       "0                       0.255668                           -98.593887  ...   \n",
       "1                       0.130988                            16.592861  ...   \n",
       "2                       0.110018                            72.795837  ...   \n",
       "3                            NaN                                  NaN  ...   \n",
       "4                       0.121164                             4.121269  ...   \n",
       "\n",
       "   Cloud_cloud_top_height  Cloud_cloud_base_pressure  Cloud_cloud_base_height  \\\n",
       "0             3664.436218               61085.809570              2615.120483   \n",
       "1             3651.190311               66969.478735              3174.572424   \n",
       "2             4216.986492               60068.894448              3516.282669   \n",
       "3             5228.507736               51064.547339              4180.973322   \n",
       "4             3980.598120               63751.125781              3355.710107   \n",
       "\n",
       "   Cloud_cloud_optical_depth  Cloud_surface_albedo  \\\n",
       "0                  15.568533              0.272292   \n",
       "1                   8.690601              0.256830   \n",
       "2                  21.103410              0.251101   \n",
       "3                  15.386899              0.262043   \n",
       "4                   8.114694              0.235847   \n",
       "\n",
       "   Cloud_sensor_azimuth_angle  Cloud_sensor_zenith_angle  \\\n",
       "0                  -12.628986                  35.632416   \n",
       "1                   30.359375                  39.557633   \n",
       "2                   15.377883                  30.401823   \n",
       "3                  -11.293399                  24.380357   \n",
       "4                   38.532263                  37.392979   \n",
       "\n",
       "   Cloud_solar_azimuth_angle  Cloud_solar_zenith_angle  emission  \n",
       "0                -138.786423                 30.752140  3.750994  \n",
       "1                -145.183930                 27.251779  4.025176  \n",
       "2                -142.519545                 26.193296  4.231381  \n",
       "3                -132.665828                 28.829155  4.305286  \n",
       "4                -141.509805                 22.204612  4.347317  \n",
       "\n",
       "[5 rows x 76 columns]"
      ]
     },
     "execution_count": 95,
     "metadata": {},
     "output_type": "execute_result"
    }
   ],
   "source": [
    "train.head()"
   ]
  },
  {
   "cell_type": "code",
   "execution_count": 96,
   "metadata": {},
   "outputs": [],
   "source": [
    "# This lines of code only added to ignore warnings\n",
    "import warnings\n",
    "warnings.filterwarnings(\"ignore\")"
   ]
  },
  {
   "cell_type": "code",
   "execution_count": 97,
   "metadata": {},
   "outputs": [],
   "source": [
    "train_cord = train.drop_duplicates(subset=['latitude','longitude'])\n",
    "test_cord = test.drop_duplicates(subset=['latitude','longitude'])\n",
    "train_cord['type'], test_cord['type'] = 'train', 'test'\n",
    "all_data_cord = pd.concat([train_cord, test_cord], ignore_index=True)\n"
   ]
  },
  {
   "cell_type": "code",
   "execution_count": 98,
   "metadata": {},
   "outputs": [],
   "source": [
    "import geopandas as gpd"
   ]
  },
  {
   "cell_type": "code",
   "execution_count": 99,
   "metadata": {},
   "outputs": [
    {
     "data": {
      "text/html": [
       "<div>\n",
       "<style scoped>\n",
       "    .dataframe tbody tr th:only-of-type {\n",
       "        vertical-align: middle;\n",
       "    }\n",
       "\n",
       "    .dataframe tbody tr th {\n",
       "        vertical-align: top;\n",
       "    }\n",
       "\n",
       "    .dataframe thead th {\n",
       "        text-align: right;\n",
       "    }\n",
       "</style>\n",
       "<table border=\"1\" class=\"dataframe\">\n",
       "  <thead>\n",
       "    <tr style=\"text-align: right;\">\n",
       "      <th></th>\n",
       "      <th>latitude</th>\n",
       "      <th>longitude</th>\n",
       "      <th>type</th>\n",
       "      <th>geometry</th>\n",
       "    </tr>\n",
       "  </thead>\n",
       "  <tbody>\n",
       "    <tr>\n",
       "      <th>0</th>\n",
       "      <td>-0.510</td>\n",
       "      <td>29.290</td>\n",
       "      <td>train</td>\n",
       "      <td>POINT (-0.51000 29.29000)</td>\n",
       "    </tr>\n",
       "    <tr>\n",
       "      <th>1</th>\n",
       "      <td>-0.528</td>\n",
       "      <td>29.472</td>\n",
       "      <td>train</td>\n",
       "      <td>POINT (-0.52800 29.47200)</td>\n",
       "    </tr>\n",
       "    <tr>\n",
       "      <th>2</th>\n",
       "      <td>-0.547</td>\n",
       "      <td>29.653</td>\n",
       "      <td>train</td>\n",
       "      <td>POINT (-0.54700 29.65300)</td>\n",
       "    </tr>\n",
       "    <tr>\n",
       "      <th>3</th>\n",
       "      <td>-0.569</td>\n",
       "      <td>30.031</td>\n",
       "      <td>train</td>\n",
       "      <td>POINT (-0.56900 30.03100)</td>\n",
       "    </tr>\n",
       "    <tr>\n",
       "      <th>4</th>\n",
       "      <td>-0.598</td>\n",
       "      <td>29.102</td>\n",
       "      <td>train</td>\n",
       "      <td>POINT (-0.59800 29.10200)</td>\n",
       "    </tr>\n",
       "  </tbody>\n",
       "</table>\n",
       "</div>"
      ],
      "text/plain": [
       "   latitude  longitude   type                   geometry\n",
       "0    -0.510     29.290  train  POINT (-0.51000 29.29000)\n",
       "1    -0.528     29.472  train  POINT (-0.52800 29.47200)\n",
       "2    -0.547     29.653  train  POINT (-0.54700 29.65300)\n",
       "3    -0.569     30.031  train  POINT (-0.56900 30.03100)\n",
       "4    -0.598     29.102  train  POINT (-0.59800 29.10200)"
      ]
     },
     "execution_count": 99,
     "metadata": {},
     "output_type": "execute_result"
    }
   ],
   "source": [
    "geometry= gpd.points_from_xy(all_data_cord['latitude'],all_data_cord['longitude'])\n",
    "geo_df= gpd.GeoDataFrame(all_data_cord[['latitude','longitude','type']],geometry=geometry)\n",
    "geo_df.head()"
   ]
  },
  {
   "cell_type": "code",
   "execution_count": 100,
   "metadata": {},
   "outputs": [
    {
     "data": {
      "application/vnd.plotly.v1+json": {
       "config": {
        "plotlyServerURL": "https://plot.ly"
       },
       "data": [
        {
         "customdata": [
          [
           "train"
          ],
          [
           "train"
          ],
          [
           "train"
          ],
          [
           "train"
          ],
          [
           "train"
          ],
          [
           "train"
          ],
          [
           "train"
          ],
          [
           "train"
          ],
          [
           "train"
          ],
          [
           "train"
          ],
          [
           "train"
          ],
          [
           "train"
          ],
          [
           "train"
          ],
          [
           "train"
          ],
          [
           "train"
          ],
          [
           "train"
          ],
          [
           "train"
          ],
          [
           "train"
          ],
          [
           "train"
          ],
          [
           "train"
          ],
          [
           "train"
          ],
          [
           "train"
          ],
          [
           "train"
          ],
          [
           "train"
          ],
          [
           "train"
          ],
          [
           "train"
          ],
          [
           "train"
          ],
          [
           "train"
          ],
          [
           "train"
          ],
          [
           "train"
          ],
          [
           "train"
          ],
          [
           "train"
          ],
          [
           "train"
          ],
          [
           "train"
          ],
          [
           "train"
          ],
          [
           "train"
          ],
          [
           "train"
          ],
          [
           "train"
          ],
          [
           "train"
          ],
          [
           "train"
          ],
          [
           "train"
          ],
          [
           "train"
          ],
          [
           "train"
          ],
          [
           "train"
          ],
          [
           "train"
          ],
          [
           "train"
          ],
          [
           "train"
          ],
          [
           "train"
          ],
          [
           "train"
          ],
          [
           "train"
          ],
          [
           "train"
          ],
          [
           "train"
          ],
          [
           "train"
          ],
          [
           "train"
          ],
          [
           "train"
          ],
          [
           "train"
          ],
          [
           "train"
          ],
          [
           "train"
          ],
          [
           "train"
          ],
          [
           "train"
          ],
          [
           "train"
          ],
          [
           "train"
          ],
          [
           "train"
          ],
          [
           "train"
          ],
          [
           "train"
          ],
          [
           "train"
          ],
          [
           "train"
          ],
          [
           "train"
          ],
          [
           "train"
          ],
          [
           "train"
          ],
          [
           "train"
          ],
          [
           "train"
          ],
          [
           "train"
          ],
          [
           "train"
          ],
          [
           "train"
          ],
          [
           "train"
          ],
          [
           "train"
          ],
          [
           "train"
          ],
          [
           "train"
          ],
          [
           "train"
          ],
          [
           "train"
          ],
          [
           "train"
          ],
          [
           "train"
          ],
          [
           "train"
          ],
          [
           "train"
          ],
          [
           "train"
          ],
          [
           "train"
          ],
          [
           "train"
          ],
          [
           "train"
          ],
          [
           "train"
          ],
          [
           "train"
          ],
          [
           "train"
          ],
          [
           "train"
          ],
          [
           "train"
          ],
          [
           "train"
          ],
          [
           "train"
          ],
          [
           "train"
          ],
          [
           "train"
          ],
          [
           "train"
          ],
          [
           "train"
          ],
          [
           "train"
          ],
          [
           "train"
          ],
          [
           "train"
          ],
          [
           "train"
          ],
          [
           "train"
          ],
          [
           "train"
          ],
          [
           "train"
          ],
          [
           "train"
          ],
          [
           "train"
          ],
          [
           "train"
          ],
          [
           "train"
          ],
          [
           "train"
          ],
          [
           "train"
          ],
          [
           "train"
          ],
          [
           "train"
          ],
          [
           "train"
          ],
          [
           "train"
          ],
          [
           "train"
          ],
          [
           "train"
          ],
          [
           "train"
          ],
          [
           "train"
          ],
          [
           "train"
          ],
          [
           "train"
          ],
          [
           "train"
          ],
          [
           "train"
          ],
          [
           "train"
          ],
          [
           "train"
          ],
          [
           "train"
          ],
          [
           "train"
          ],
          [
           "train"
          ],
          [
           "train"
          ],
          [
           "train"
          ],
          [
           "train"
          ],
          [
           "train"
          ],
          [
           "train"
          ],
          [
           "train"
          ],
          [
           "train"
          ],
          [
           "train"
          ],
          [
           "train"
          ],
          [
           "train"
          ],
          [
           "train"
          ],
          [
           "train"
          ],
          [
           "train"
          ],
          [
           "train"
          ],
          [
           "train"
          ],
          [
           "train"
          ],
          [
           "train"
          ],
          [
           "train"
          ],
          [
           "train"
          ],
          [
           "train"
          ],
          [
           "train"
          ],
          [
           "train"
          ],
          [
           "train"
          ],
          [
           "train"
          ],
          [
           "train"
          ],
          [
           "train"
          ],
          [
           "train"
          ],
          [
           "train"
          ],
          [
           "train"
          ],
          [
           "train"
          ],
          [
           "train"
          ],
          [
           "train"
          ],
          [
           "train"
          ],
          [
           "train"
          ],
          [
           "train"
          ],
          [
           "train"
          ],
          [
           "train"
          ],
          [
           "train"
          ],
          [
           "train"
          ],
          [
           "train"
          ],
          [
           "train"
          ],
          [
           "train"
          ],
          [
           "train"
          ],
          [
           "train"
          ],
          [
           "train"
          ],
          [
           "train"
          ],
          [
           "train"
          ],
          [
           "train"
          ],
          [
           "train"
          ],
          [
           "train"
          ],
          [
           "train"
          ],
          [
           "train"
          ],
          [
           "train"
          ],
          [
           "train"
          ],
          [
           "train"
          ],
          [
           "train"
          ],
          [
           "train"
          ],
          [
           "train"
          ],
          [
           "train"
          ],
          [
           "train"
          ],
          [
           "train"
          ],
          [
           "train"
          ],
          [
           "train"
          ],
          [
           "train"
          ],
          [
           "train"
          ],
          [
           "train"
          ],
          [
           "train"
          ],
          [
           "train"
          ],
          [
           "train"
          ],
          [
           "train"
          ],
          [
           "train"
          ],
          [
           "train"
          ],
          [
           "train"
          ],
          [
           "train"
          ],
          [
           "train"
          ],
          [
           "train"
          ],
          [
           "train"
          ],
          [
           "train"
          ],
          [
           "train"
          ],
          [
           "train"
          ],
          [
           "train"
          ],
          [
           "train"
          ],
          [
           "train"
          ],
          [
           "train"
          ],
          [
           "train"
          ],
          [
           "train"
          ],
          [
           "train"
          ],
          [
           "train"
          ],
          [
           "train"
          ],
          [
           "train"
          ],
          [
           "train"
          ],
          [
           "train"
          ],
          [
           "train"
          ],
          [
           "train"
          ],
          [
           "train"
          ],
          [
           "train"
          ],
          [
           "train"
          ],
          [
           "train"
          ],
          [
           "train"
          ],
          [
           "train"
          ],
          [
           "train"
          ],
          [
           "train"
          ],
          [
           "train"
          ],
          [
           "train"
          ],
          [
           "train"
          ],
          [
           "train"
          ],
          [
           "train"
          ],
          [
           "train"
          ],
          [
           "train"
          ],
          [
           "train"
          ],
          [
           "train"
          ],
          [
           "train"
          ],
          [
           "train"
          ],
          [
           "train"
          ],
          [
           "train"
          ],
          [
           "train"
          ],
          [
           "train"
          ],
          [
           "train"
          ],
          [
           "train"
          ],
          [
           "train"
          ],
          [
           "train"
          ],
          [
           "train"
          ],
          [
           "train"
          ],
          [
           "train"
          ],
          [
           "train"
          ],
          [
           "train"
          ],
          [
           "train"
          ],
          [
           "train"
          ],
          [
           "train"
          ],
          [
           "train"
          ],
          [
           "train"
          ],
          [
           "train"
          ],
          [
           "train"
          ],
          [
           "train"
          ],
          [
           "train"
          ],
          [
           "train"
          ],
          [
           "train"
          ],
          [
           "train"
          ],
          [
           "train"
          ],
          [
           "train"
          ],
          [
           "train"
          ],
          [
           "train"
          ],
          [
           "train"
          ],
          [
           "train"
          ],
          [
           "train"
          ],
          [
           "train"
          ],
          [
           "train"
          ],
          [
           "train"
          ],
          [
           "train"
          ],
          [
           "train"
          ],
          [
           "train"
          ],
          [
           "train"
          ],
          [
           "train"
          ],
          [
           "train"
          ],
          [
           "train"
          ],
          [
           "train"
          ],
          [
           "train"
          ],
          [
           "train"
          ],
          [
           "train"
          ],
          [
           "train"
          ],
          [
           "train"
          ],
          [
           "train"
          ],
          [
           "train"
          ],
          [
           "train"
          ],
          [
           "train"
          ],
          [
           "train"
          ],
          [
           "train"
          ],
          [
           "train"
          ],
          [
           "train"
          ],
          [
           "train"
          ],
          [
           "train"
          ],
          [
           "train"
          ],
          [
           "train"
          ],
          [
           "train"
          ],
          [
           "train"
          ],
          [
           "train"
          ],
          [
           "train"
          ],
          [
           "train"
          ],
          [
           "train"
          ],
          [
           "train"
          ],
          [
           "train"
          ],
          [
           "train"
          ],
          [
           "train"
          ],
          [
           "train"
          ],
          [
           "train"
          ],
          [
           "train"
          ],
          [
           "train"
          ],
          [
           "train"
          ],
          [
           "train"
          ],
          [
           "train"
          ],
          [
           "train"
          ],
          [
           "train"
          ],
          [
           "train"
          ],
          [
           "train"
          ],
          [
           "train"
          ],
          [
           "train"
          ],
          [
           "train"
          ],
          [
           "train"
          ],
          [
           "train"
          ],
          [
           "train"
          ],
          [
           "train"
          ],
          [
           "train"
          ],
          [
           "train"
          ],
          [
           "train"
          ],
          [
           "train"
          ],
          [
           "train"
          ],
          [
           "train"
          ],
          [
           "train"
          ],
          [
           "train"
          ],
          [
           "train"
          ],
          [
           "train"
          ],
          [
           "train"
          ],
          [
           "train"
          ],
          [
           "train"
          ],
          [
           "train"
          ],
          [
           "train"
          ],
          [
           "train"
          ],
          [
           "train"
          ],
          [
           "train"
          ],
          [
           "train"
          ],
          [
           "train"
          ],
          [
           "train"
          ],
          [
           "train"
          ],
          [
           "train"
          ],
          [
           "train"
          ],
          [
           "train"
          ],
          [
           "train"
          ],
          [
           "train"
          ],
          [
           "train"
          ],
          [
           "train"
          ],
          [
           "train"
          ],
          [
           "train"
          ],
          [
           "train"
          ],
          [
           "train"
          ],
          [
           "train"
          ],
          [
           "train"
          ],
          [
           "train"
          ],
          [
           "train"
          ],
          [
           "train"
          ],
          [
           "train"
          ],
          [
           "train"
          ],
          [
           "train"
          ],
          [
           "train"
          ],
          [
           "train"
          ],
          [
           "train"
          ],
          [
           "train"
          ],
          [
           "train"
          ],
          [
           "train"
          ],
          [
           "train"
          ],
          [
           "train"
          ],
          [
           "train"
          ],
          [
           "train"
          ],
          [
           "train"
          ],
          [
           "train"
          ],
          [
           "train"
          ],
          [
           "train"
          ],
          [
           "train"
          ],
          [
           "train"
          ],
          [
           "train"
          ],
          [
           "train"
          ],
          [
           "train"
          ],
          [
           "train"
          ],
          [
           "train"
          ],
          [
           "train"
          ],
          [
           "train"
          ],
          [
           "train"
          ],
          [
           "train"
          ],
          [
           "train"
          ],
          [
           "train"
          ],
          [
           "train"
          ],
          [
           "train"
          ],
          [
           "train"
          ],
          [
           "train"
          ],
          [
           "train"
          ],
          [
           "train"
          ],
          [
           "train"
          ],
          [
           "train"
          ],
          [
           "train"
          ],
          [
           "train"
          ],
          [
           "train"
          ],
          [
           "train"
          ],
          [
           "train"
          ],
          [
           "train"
          ],
          [
           "train"
          ],
          [
           "train"
          ],
          [
           "train"
          ],
          [
           "train"
          ],
          [
           "train"
          ],
          [
           "train"
          ],
          [
           "train"
          ],
          [
           "train"
          ],
          [
           "train"
          ],
          [
           "train"
          ],
          [
           "train"
          ],
          [
           "train"
          ],
          [
           "train"
          ],
          [
           "train"
          ],
          [
           "train"
          ],
          [
           "train"
          ],
          [
           "train"
          ],
          [
           "train"
          ],
          [
           "train"
          ],
          [
           "train"
          ],
          [
           "train"
          ],
          [
           "train"
          ],
          [
           "train"
          ],
          [
           "train"
          ],
          [
           "train"
          ],
          [
           "train"
          ],
          [
           "train"
          ],
          [
           "train"
          ],
          [
           "train"
          ],
          [
           "train"
          ],
          [
           "train"
          ],
          [
           "train"
          ],
          [
           "train"
          ],
          [
           "train"
          ],
          [
           "train"
          ],
          [
           "train"
          ],
          [
           "train"
          ],
          [
           "train"
          ],
          [
           "train"
          ],
          [
           "train"
          ],
          [
           "train"
          ],
          [
           "train"
          ],
          [
           "train"
          ],
          [
           "train"
          ],
          [
           "train"
          ],
          [
           "train"
          ],
          [
           "train"
          ],
          [
           "train"
          ],
          [
           "train"
          ],
          [
           "train"
          ],
          [
           "train"
          ],
          [
           "train"
          ],
          [
           "train"
          ],
          [
           "train"
          ],
          [
           "train"
          ],
          [
           "train"
          ],
          [
           "train"
          ],
          [
           "train"
          ],
          [
           "train"
          ],
          [
           "train"
          ],
          [
           "train"
          ],
          [
           "train"
          ],
          [
           "train"
          ],
          [
           "train"
          ],
          [
           "train"
          ],
          [
           "train"
          ],
          [
           "train"
          ],
          [
           "train"
          ],
          [
           "train"
          ],
          [
           "train"
          ],
          [
           "train"
          ],
          [
           "train"
          ],
          [
           "train"
          ],
          [
           "train"
          ],
          [
           "train"
          ],
          [
           "train"
          ],
          [
           "train"
          ],
          [
           "train"
          ],
          [
           "train"
          ],
          [
           "train"
          ],
          [
           "train"
          ],
          [
           "train"
          ],
          [
           "train"
          ],
          [
           "train"
          ]
         ],
         "hovertemplate": "type=%{customdata[0]}<br>latitude=%{lat}<br>longitude=%{lon}<extra></extra>",
         "lat": [
          -0.51,
          -0.528,
          -0.547,
          -0.569,
          -0.598,
          -0.604,
          -0.615,
          -0.627,
          -0.637,
          -0.653,
          -0.659,
          -0.667,
          -0.677,
          -0.702,
          -0.72,
          -0.726,
          -0.727,
          -0.766,
          -0.785,
          -0.787,
          -0.793,
          -0.798,
          -0.799,
          -0.801,
          -0.806,
          -0.829,
          -0.837,
          -0.843,
          -0.853,
          -0.855,
          -0.859,
          -0.866,
          -0.869,
          -0.871,
          -0.905,
          -0.905,
          -0.915,
          -0.925,
          -0.933,
          -0.935,
          -0.938,
          -0.942,
          -0.95,
          -0.956,
          -0.963,
          -0.964,
          -0.964,
          -0.965,
          -0.972,
          -0.972,
          -0.978,
          -0.986,
          -0.989,
          -0.997,
          -0.997,
          -1,
          -1.003,
          -1.004,
          -1.014,
          -1.024,
          -1.036,
          -1.041,
          -1.043,
          -1.045,
          -1.048,
          -1.052,
          -1.062,
          -1.065,
          -1.066,
          -1.067,
          -1.068,
          -1.068,
          -1.07,
          -1.07,
          -1.074,
          -1.076,
          -1.084,
          -1.085,
          -1.092,
          -1.097,
          -1.105,
          -1.115,
          -1.116,
          -1.117,
          -1.118,
          -1.129,
          -1.13,
          -1.139,
          -1.143,
          -1.163,
          -1.167,
          -1.168,
          -1.17,
          -1.171,
          -1.173,
          -1.176,
          -1.176,
          -1.176,
          -1.185,
          -1.187,
          -1.196,
          -1.2,
          -1.203,
          -1.207,
          -1.211,
          -1.214,
          -1.223,
          -1.223,
          -1.225,
          -1.226,
          -1.231,
          -1.231,
          -1.242,
          -1.244,
          -1.252,
          -1.258,
          -1.267,
          -1.274,
          -1.279,
          -1.283,
          -1.289,
          -1.289,
          -1.292,
          -1.299,
          -1.303,
          -1.307,
          -1.315,
          -1.319,
          -1.327,
          -1.328,
          -1.331,
          -1.335,
          -1.339,
          -1.342,
          -1.342,
          -1.342,
          -1.346,
          -1.348,
          -1.355,
          -1.355,
          -1.36,
          -1.364,
          -1.366,
          -1.368,
          -1.371,
          -1.383,
          -1.384,
          -1.398,
          -1.399,
          -1.4,
          -1.408,
          -1.41,
          -1.412,
          -1.413,
          -1.416,
          -1.427,
          -1.429,
          -1.429,
          -1.444,
          -1.45,
          -1.482,
          -1.486,
          -1.486,
          -1.49,
          -1.49,
          -1.492,
          -1.497,
          -1.505,
          -1.51,
          -1.51,
          -1.514,
          -1.516,
          -1.523,
          -1.526,
          -1.528,
          -1.528,
          -1.529,
          -1.53,
          -1.532,
          -1.533,
          -1.533,
          -1.534,
          -1.534,
          -1.536,
          -1.555,
          -1.581,
          -1.583,
          -1.593,
          -1.596,
          -1.597,
          -1.606,
          -1.609,
          -1.613,
          -1.615,
          -1.617,
          -1.621,
          -1.639,
          -1.641,
          -1.649,
          -1.659,
          -1.664,
          -1.667,
          -1.682,
          -1.683,
          -1.683,
          -1.69,
          -1.695,
          -1.696,
          -1.696,
          -1.7,
          -1.712,
          -1.718,
          -1.729,
          -1.73,
          -1.737,
          -1.743,
          -1.753,
          -1.764,
          -1.77,
          -1.77,
          -1.783,
          -1.792,
          -1.797,
          -1.799,
          -1.802,
          -1.802,
          -1.804,
          -1.807,
          -1.808,
          -1.82,
          -1.833,
          -1.839,
          -1.839,
          -1.844,
          -1.845,
          -1.846,
          -1.847,
          -1.847,
          -1.851,
          -1.852,
          -1.858,
          -1.861,
          -1.868,
          -1.871,
          -1.877,
          -1.877,
          -1.88,
          -1.882,
          -1.882,
          -1.889,
          -1.899,
          -1.9,
          -1.902,
          -1.903,
          -1.906,
          -1.911,
          -1.911,
          -1.92,
          -1.922,
          -1.923,
          -1.926,
          -1.929,
          -1.932,
          -1.933,
          -1.938,
          -1.944,
          -1.945,
          -1.951,
          -1.959,
          -1.961,
          -1.961,
          -1.968,
          -1.974,
          -1.978,
          -1.981,
          -1.99,
          -2.015,
          -2.016,
          -2.018,
          -2.032,
          -2.041,
          -2.049,
          -2.049,
          -2.049,
          -2.051,
          -2.053,
          -2.055,
          -2.056,
          -2.058,
          -2.059,
          -2.065,
          -2.07,
          -2.073,
          -2.079,
          -2.08,
          -2.082,
          -2.082,
          -2.091,
          -2.096,
          -2.102,
          -2.119,
          -2.123,
          -2.123,
          -2.125,
          -2.133,
          -2.136,
          -2.153,
          -2.154,
          -2.162,
          -2.166,
          -2.171,
          -2.176,
          -2.177,
          -2.179,
          -2.179,
          -2.18,
          -2.183,
          -2.185,
          -2.185,
          -2.194,
          -2.204,
          -2.235,
          -2.237,
          -2.248,
          -2.254,
          -2.255,
          -2.256,
          -2.257,
          -2.26,
          -2.262,
          -2.267,
          -2.269,
          -2.271,
          -2.272,
          -2.278,
          -2.28,
          -2.282,
          -2.291,
          -2.293,
          -2.3,
          -2.301,
          -2.302,
          -2.311,
          -2.313,
          -2.317,
          -2.319,
          -2.329,
          -2.329,
          -2.33,
          -2.335,
          -2.339,
          -2.341,
          -2.342,
          -2.353,
          -2.362,
          -2.365,
          -2.376,
          -2.378,
          -2.385,
          -2.386,
          -2.399,
          -2.404,
          -2.407,
          -2.422,
          -2.427,
          -2.431,
          -2.432,
          -2.436,
          -2.44,
          -2.441,
          -2.443,
          -2.447,
          -2.451,
          -2.466,
          -2.479,
          -2.484,
          -2.489,
          -2.491,
          -2.496,
          -2.517,
          -2.521,
          -2.522,
          -2.539,
          -2.548,
          -2.555,
          -2.561,
          -2.571,
          -2.583,
          -2.588,
          -2.589,
          -2.595,
          -2.599,
          -2.602,
          -2.61,
          -2.623,
          -2.638,
          -2.64,
          -2.643,
          -2.649,
          -2.652,
          -2.655,
          -2.656,
          -2.656,
          -2.662,
          -2.673,
          -2.676,
          -2.689,
          -2.693,
          -2.696,
          -2.697,
          -2.7,
          -2.71,
          -2.712,
          -2.719,
          -2.719,
          -2.721,
          -2.726,
          -2.734,
          -2.74,
          -2.751,
          -2.752,
          -2.757,
          -2.761,
          -2.763,
          -2.764,
          -2.766,
          -2.77,
          -2.771,
          -2.772,
          -2.783,
          -2.794,
          -2.812,
          -2.815,
          -2.817,
          -2.817,
          -2.818,
          -2.819,
          -2.82,
          -2.821,
          -2.828,
          -2.834,
          -2.836,
          -2.836,
          -2.839,
          -2.841,
          -2.841,
          -2.842,
          -2.846,
          -2.851,
          -2.853,
          -2.855,
          -2.858,
          -2.859,
          -2.859,
          -2.86,
          -2.879,
          -2.883,
          -2.896,
          -2.898,
          -2.899,
          -2.9,
          -2.902,
          -2.922,
          -2.924,
          -2.929,
          -2.931,
          -2.935,
          -2.939,
          -2.944,
          -2.946,
          -2.955,
          -2.958,
          -2.959,
          -2.97,
          -2.972,
          -2.979,
          -2.985,
          -2.986,
          -2.999,
          -3.016,
          -3.016,
          -3.023,
          -3.025,
          -3.028,
          -3.032,
          -3.047,
          -3.054,
          -3.095,
          -3.099,
          -3.133,
          -3.136,
          -3.138,
          -3.153,
          -3.161,
          -3.174,
          -3.287,
          -3.299
         ],
         "legendgroup": "train",
         "lon": [
          29.29,
          29.472,
          29.653,
          30.031,
          29.102,
          29.896,
          30.885,
          29.773,
          30.763,
          30.447,
          30.341,
          30.433,
          29.623,
          29.798,
          30.48,
          29.374,
          30.573,
          29.534,
          29.115,
          30.513,
          30.607,
          29.402,
          29.201,
          29.499,
          31.494,
          30.471,
          29.863,
          30.657,
          30.647,
          30.145,
          30.441,
          30.734,
          29.231,
          30.029,
          29.495,
          29.995,
          28.985,
          29.875,
          29.267,
          29.765,
          29.262,
          30.258,
          31.45,
          30.744,
          30.237,
          29.436,
          29.636,
          29.735,
          29.628,
          30.628,
          29.722,
          30.214,
          30.411,
          30.403,
          30.603,
          29.8,
          29.497,
          31.396,
          29.786,
          28.976,
          28.964,
          29.859,
          29.057,
          30.455,
          30.252,
          30.948,
          28.838,
          31.035,
          29.734,
          29.833,
          31.332,
          31.532,
          29.33,
          30.03,
          29.826,
          28.724,
          29.616,
          29.215,
          31.108,
          29.903,
          29.995,
          30.085,
          29.684,
          29.883,
          30.282,
          31.371,
          30.07,
          30.561,
          30.957,
          29.537,
          30.633,
          30.232,
          29.33,
          31.329,
          30.727,
          30.624,
          31.324,
          31.524,
          28.915,
          31.113,
          30.404,
          31,
          31.397,
          30.693,
          30.389,
          30.786,
          29.377,
          29.877,
          30.975,
          30.274,
          30.269,
          30.969,
          30.658,
          29.856,
          28.848,
          30.042,
          29.233,
          29.926,
          30.521,
          30.417,
          28.911,
          29.711,
          29.408,
          29.601,
          28.997,
          30.393,
          29.785,
          30.281,
          30.973,
          28.872,
          29.669,
          29.465,
          29.961,
          29.258,
          30.158,
          31.358,
          31.254,
          29.552,
          30.245,
          30.645,
          30.34,
          29.036,
          29.434,
          30.932,
          29.629,
          29.917,
          28.916,
          29.702,
          29.601,
          30,
          31.292,
          31.39,
          31.188,
          30.287,
          31.284,
          30.073,
          30.171,
          30.971,
          30.856,
          29.35,
          30.618,
          29.314,
          29.614,
          30.31,
          30.51,
          30.308,
          30.603,
          30.995,
          29.89,
          30.19,
          29.686,
          28.984,
          30.677,
          29.874,
          29.972,
          31.372,
          30.971,
          30.87,
          28.568,
          28.467,
          29.967,
          30.366,
          31.466,
          28.364,
          30.945,
          30.819,
          28.517,
          30.207,
          29.404,
          29.603,
          30.294,
          29.391,
          28.487,
          30.285,
          30.683,
          30.479,
          31.061,
          31.259,
          29.351,
          29.641,
          30.336,
          30.933,
          29.218,
          29.617,
          31.217,
          28.51,
          31.405,
          28.304,
          30.704,
          30.9,
          28.688,
          30.382,
          30.471,
          28.47,
          30.063,
          29.457,
          28.547,
          31.436,
          29.13,
          31.03,
          31.117,
          30.408,
          30.303,
          28.601,
          29.798,
          31.198,
          31.196,
          30.093,
          29.892,
          31.28,
          28.467,
          28.761,
          30.961,
          30.356,
          29.355,
          29.554,
          28.753,
          30.953,
          30.949,
          29.948,
          31.442,
          30.939,
          29.832,
          29.729,
          28.523,
          30.623,
          30.72,
          28.718,
          30.018,
          29.611,
          31.201,
          29.5,
          28.398,
          28.297,
          29.694,
          29.389,
          30.189,
          29.68,
          29.178,
          29.777,
          28.474,
          28.771,
          31.068,
          30.367,
          31.362,
          28.556,
          29.155,
          28.649,
          30.341,
          28.939,
          31.339,
          30.932,
          28.526,
          31.122,
          31.219,
          30.41,
          30.985,
          31.184,
          28.882,
          29.168,
          30.559,
          29.151,
          29.551,
          30.751,
          29.949,
          30.647,
          30.845,
          30.544,
          30.642,
          28.741,
          30.235,
          29.23,
          28.627,
          29.321,
          28.62,
          29.218,
          30.418,
          30.709,
          28.404,
          29.898,
          29.281,
          28.977,
          31.277,
          30.375,
          30.467,
          30.264,
          29.947,
          29.946,
          30.138,
          31.234,
          28.629,
          29.324,
          30.223,
          29.121,
          30.621,
          29.62,
          30.917,
          29.515,
          30.515,
          29.506,
          30.996,
          30.765,
          30.763,
          28.652,
          30.446,
          28.645,
          28.744,
          30.243,
          30.84,
          30.838,
          29.933,
          30.231,
          29.929,
          29.128,
          29.722,
          29.92,
          29.018,
          29.609,
          29.507,
          29.2,
          29.899,
          29.198,
          29.489,
          29.787,
          28.883,
          31.181,
          28.671,
          30.071,
          29.57,
          29.665,
          28.461,
          29.059,
          29.458,
          30.847,
          30.638,
          30.535,
          29.924,
          29.222,
          28.715,
          30.314,
          29.901,
          30.496,
          29.393,
          28.778,
          28.673,
          29.269,
          29.568,
          30.464,
          29.06,
          28.959,
          28.657,
          28.353,
          28.249,
          30.334,
          29.421,
          30.116,
          28.811,
          29.309,
          28.504,
          29.883,
          29.179,
          29.078,
          28.461,
          29.752,
          29.145,
          29.839,
          30.029,
          29.617,
          29.912,
          28.311,
          28.905,
          29.801,
          29.898,
          28.79,
          28.977,
          29.562,
          29.46,
          29.257,
          28.651,
          29.148,
          30.245,
          29.744,
          30.944,
          30.138,
          29.327,
          28.724,
          28.811,
          28.607,
          29.304,
          29.403,
          29.5,
          30.19,
          29.488,
          30.281,
          30.981,
          29.979,
          30.474,
          29.766,
          29.66,
          29.249,
          30.048,
          29.543,
          28.439,
          30.337,
          29.136,
          30.734,
          28.93,
          30.029,
          30.928,
          28.817,
          28.306,
          30.488,
          30.285,
          29.283,
          29.783,
          29.582,
          29.981,
          28.38,
          29.479,
          29.872,
          30.466,
          30.064,
          30.364,
          28.861,
          28.659,
          29.159,
          28.958,
          28.454,
          30.249,
          28.547,
          29.145,
          28.642,
          29.041,
          29.441,
          28.74,
          30.621,
          29.017,
          29.404,
          29.002,
          29.601,
          29.3,
          30.398,
          29.178,
          29.976,
          29.771,
          29.569,
          29.565,
          30.461,
          29.356,
          30.454,
          30.245,
          29.442,
          30.641,
          30.03,
          28.228,
          30.021,
          30.415,
          29.114,
          30.701,
          30.384,
          30.584,
          30.177,
          30.275,
          28.872,
          29.168,
          28.753,
          29.046,
          29.505,
          29.601,
          29.467,
          30.364,
          30.662,
          30.347,
          28.839,
          29.926,
          29.713,
          30.301
         ],
         "marker": {
          "color": "#636efa"
         },
         "mode": "markers",
         "name": "train",
         "showlegend": true,
         "subplot": "mapbox",
         "type": "scattermapbox"
        },
        {
         "customdata": [
          [
           "test"
          ],
          [
           "test"
          ],
          [
           "test"
          ],
          [
           "test"
          ],
          [
           "test"
          ],
          [
           "test"
          ],
          [
           "test"
          ],
          [
           "test"
          ],
          [
           "test"
          ],
          [
           "test"
          ],
          [
           "test"
          ],
          [
           "test"
          ],
          [
           "test"
          ],
          [
           "test"
          ],
          [
           "test"
          ],
          [
           "test"
          ],
          [
           "test"
          ],
          [
           "test"
          ],
          [
           "test"
          ],
          [
           "test"
          ],
          [
           "test"
          ],
          [
           "test"
          ],
          [
           "test"
          ],
          [
           "test"
          ],
          [
           "test"
          ],
          [
           "test"
          ],
          [
           "test"
          ],
          [
           "test"
          ],
          [
           "test"
          ],
          [
           "test"
          ],
          [
           "test"
          ],
          [
           "test"
          ],
          [
           "test"
          ],
          [
           "test"
          ],
          [
           "test"
          ],
          [
           "test"
          ],
          [
           "test"
          ],
          [
           "test"
          ],
          [
           "test"
          ],
          [
           "test"
          ],
          [
           "test"
          ],
          [
           "test"
          ],
          [
           "test"
          ],
          [
           "test"
          ],
          [
           "test"
          ],
          [
           "test"
          ],
          [
           "test"
          ],
          [
           "test"
          ],
          [
           "test"
          ],
          [
           "test"
          ],
          [
           "test"
          ],
          [
           "test"
          ],
          [
           "test"
          ],
          [
           "test"
          ],
          [
           "test"
          ],
          [
           "test"
          ],
          [
           "test"
          ],
          [
           "test"
          ],
          [
           "test"
          ],
          [
           "test"
          ],
          [
           "test"
          ],
          [
           "test"
          ],
          [
           "test"
          ],
          [
           "test"
          ],
          [
           "test"
          ],
          [
           "test"
          ],
          [
           "test"
          ],
          [
           "test"
          ],
          [
           "test"
          ],
          [
           "test"
          ],
          [
           "test"
          ],
          [
           "test"
          ],
          [
           "test"
          ],
          [
           "test"
          ],
          [
           "test"
          ],
          [
           "test"
          ],
          [
           "test"
          ],
          [
           "test"
          ],
          [
           "test"
          ],
          [
           "test"
          ],
          [
           "test"
          ],
          [
           "test"
          ],
          [
           "test"
          ],
          [
           "test"
          ],
          [
           "test"
          ],
          [
           "test"
          ],
          [
           "test"
          ],
          [
           "test"
          ],
          [
           "test"
          ],
          [
           "test"
          ],
          [
           "test"
          ],
          [
           "test"
          ],
          [
           "test"
          ],
          [
           "test"
          ],
          [
           "test"
          ],
          [
           "test"
          ],
          [
           "test"
          ],
          [
           "test"
          ],
          [
           "test"
          ],
          [
           "test"
          ],
          [
           "test"
          ],
          [
           "test"
          ],
          [
           "test"
          ],
          [
           "test"
          ],
          [
           "test"
          ],
          [
           "test"
          ],
          [
           "test"
          ],
          [
           "test"
          ],
          [
           "test"
          ],
          [
           "test"
          ],
          [
           "test"
          ],
          [
           "test"
          ],
          [
           "test"
          ],
          [
           "test"
          ],
          [
           "test"
          ],
          [
           "test"
          ],
          [
           "test"
          ],
          [
           "test"
          ],
          [
           "test"
          ],
          [
           "test"
          ],
          [
           "test"
          ],
          [
           "test"
          ],
          [
           "test"
          ],
          [
           "test"
          ],
          [
           "test"
          ],
          [
           "test"
          ],
          [
           "test"
          ],
          [
           "test"
          ],
          [
           "test"
          ],
          [
           "test"
          ],
          [
           "test"
          ],
          [
           "test"
          ],
          [
           "test"
          ],
          [
           "test"
          ],
          [
           "test"
          ],
          [
           "test"
          ],
          [
           "test"
          ],
          [
           "test"
          ],
          [
           "test"
          ],
          [
           "test"
          ],
          [
           "test"
          ],
          [
           "test"
          ],
          [
           "test"
          ],
          [
           "test"
          ],
          [
           "test"
          ],
          [
           "test"
          ],
          [
           "test"
          ],
          [
           "test"
          ],
          [
           "test"
          ],
          [
           "test"
          ],
          [
           "test"
          ],
          [
           "test"
          ],
          [
           "test"
          ],
          [
           "test"
          ],
          [
           "test"
          ],
          [
           "test"
          ],
          [
           "test"
          ],
          [
           "test"
          ],
          [
           "test"
          ],
          [
           "test"
          ],
          [
           "test"
          ],
          [
           "test"
          ],
          [
           "test"
          ],
          [
           "test"
          ],
          [
           "test"
          ],
          [
           "test"
          ],
          [
           "test"
          ],
          [
           "test"
          ],
          [
           "test"
          ],
          [
           "test"
          ],
          [
           "test"
          ],
          [
           "test"
          ],
          [
           "test"
          ],
          [
           "test"
          ],
          [
           "test"
          ],
          [
           "test"
          ],
          [
           "test"
          ],
          [
           "test"
          ],
          [
           "test"
          ],
          [
           "test"
          ],
          [
           "test"
          ],
          [
           "test"
          ],
          [
           "test"
          ],
          [
           "test"
          ],
          [
           "test"
          ],
          [
           "test"
          ],
          [
           "test"
          ],
          [
           "test"
          ],
          [
           "test"
          ],
          [
           "test"
          ],
          [
           "test"
          ],
          [
           "test"
          ],
          [
           "test"
          ],
          [
           "test"
          ],
          [
           "test"
          ],
          [
           "test"
          ],
          [
           "test"
          ],
          [
           "test"
          ],
          [
           "test"
          ],
          [
           "test"
          ],
          [
           "test"
          ],
          [
           "test"
          ],
          [
           "test"
          ],
          [
           "test"
          ],
          [
           "test"
          ],
          [
           "test"
          ],
          [
           "test"
          ],
          [
           "test"
          ],
          [
           "test"
          ],
          [
           "test"
          ],
          [
           "test"
          ],
          [
           "test"
          ],
          [
           "test"
          ],
          [
           "test"
          ],
          [
           "test"
          ],
          [
           "test"
          ],
          [
           "test"
          ],
          [
           "test"
          ],
          [
           "test"
          ],
          [
           "test"
          ],
          [
           "test"
          ],
          [
           "test"
          ],
          [
           "test"
          ],
          [
           "test"
          ],
          [
           "test"
          ],
          [
           "test"
          ],
          [
           "test"
          ],
          [
           "test"
          ],
          [
           "test"
          ],
          [
           "test"
          ],
          [
           "test"
          ],
          [
           "test"
          ],
          [
           "test"
          ],
          [
           "test"
          ],
          [
           "test"
          ],
          [
           "test"
          ],
          [
           "test"
          ],
          [
           "test"
          ],
          [
           "test"
          ],
          [
           "test"
          ],
          [
           "test"
          ],
          [
           "test"
          ],
          [
           "test"
          ],
          [
           "test"
          ],
          [
           "test"
          ],
          [
           "test"
          ],
          [
           "test"
          ],
          [
           "test"
          ],
          [
           "test"
          ],
          [
           "test"
          ],
          [
           "test"
          ],
          [
           "test"
          ],
          [
           "test"
          ],
          [
           "test"
          ],
          [
           "test"
          ],
          [
           "test"
          ],
          [
           "test"
          ],
          [
           "test"
          ],
          [
           "test"
          ],
          [
           "test"
          ],
          [
           "test"
          ],
          [
           "test"
          ],
          [
           "test"
          ],
          [
           "test"
          ],
          [
           "test"
          ],
          [
           "test"
          ],
          [
           "test"
          ],
          [
           "test"
          ],
          [
           "test"
          ],
          [
           "test"
          ],
          [
           "test"
          ],
          [
           "test"
          ],
          [
           "test"
          ],
          [
           "test"
          ],
          [
           "test"
          ],
          [
           "test"
          ],
          [
           "test"
          ],
          [
           "test"
          ],
          [
           "test"
          ],
          [
           "test"
          ],
          [
           "test"
          ],
          [
           "test"
          ],
          [
           "test"
          ],
          [
           "test"
          ],
          [
           "test"
          ],
          [
           "test"
          ],
          [
           "test"
          ],
          [
           "test"
          ],
          [
           "test"
          ],
          [
           "test"
          ],
          [
           "test"
          ],
          [
           "test"
          ],
          [
           "test"
          ],
          [
           "test"
          ],
          [
           "test"
          ],
          [
           "test"
          ],
          [
           "test"
          ],
          [
           "test"
          ],
          [
           "test"
          ],
          [
           "test"
          ],
          [
           "test"
          ],
          [
           "test"
          ],
          [
           "test"
          ],
          [
           "test"
          ],
          [
           "test"
          ],
          [
           "test"
          ],
          [
           "test"
          ],
          [
           "test"
          ],
          [
           "test"
          ],
          [
           "test"
          ],
          [
           "test"
          ],
          [
           "test"
          ],
          [
           "test"
          ],
          [
           "test"
          ],
          [
           "test"
          ],
          [
           "test"
          ],
          [
           "test"
          ],
          [
           "test"
          ],
          [
           "test"
          ],
          [
           "test"
          ],
          [
           "test"
          ],
          [
           "test"
          ],
          [
           "test"
          ],
          [
           "test"
          ],
          [
           "test"
          ],
          [
           "test"
          ],
          [
           "test"
          ],
          [
           "test"
          ],
          [
           "test"
          ],
          [
           "test"
          ],
          [
           "test"
          ],
          [
           "test"
          ],
          [
           "test"
          ],
          [
           "test"
          ],
          [
           "test"
          ],
          [
           "test"
          ],
          [
           "test"
          ],
          [
           "test"
          ],
          [
           "test"
          ],
          [
           "test"
          ],
          [
           "test"
          ],
          [
           "test"
          ],
          [
           "test"
          ],
          [
           "test"
          ],
          [
           "test"
          ],
          [
           "test"
          ],
          [
           "test"
          ],
          [
           "test"
          ],
          [
           "test"
          ],
          [
           "test"
          ],
          [
           "test"
          ],
          [
           "test"
          ],
          [
           "test"
          ],
          [
           "test"
          ],
          [
           "test"
          ],
          [
           "test"
          ],
          [
           "test"
          ],
          [
           "test"
          ],
          [
           "test"
          ],
          [
           "test"
          ],
          [
           "test"
          ],
          [
           "test"
          ],
          [
           "test"
          ],
          [
           "test"
          ],
          [
           "test"
          ],
          [
           "test"
          ],
          [
           "test"
          ],
          [
           "test"
          ],
          [
           "test"
          ],
          [
           "test"
          ],
          [
           "test"
          ],
          [
           "test"
          ],
          [
           "test"
          ],
          [
           "test"
          ],
          [
           "test"
          ],
          [
           "test"
          ],
          [
           "test"
          ],
          [
           "test"
          ],
          [
           "test"
          ],
          [
           "test"
          ],
          [
           "test"
          ],
          [
           "test"
          ],
          [
           "test"
          ],
          [
           "test"
          ],
          [
           "test"
          ],
          [
           "test"
          ],
          [
           "test"
          ],
          [
           "test"
          ],
          [
           "test"
          ],
          [
           "test"
          ],
          [
           "test"
          ],
          [
           "test"
          ],
          [
           "test"
          ],
          [
           "test"
          ],
          [
           "test"
          ],
          [
           "test"
          ],
          [
           "test"
          ],
          [
           "test"
          ],
          [
           "test"
          ],
          [
           "test"
          ],
          [
           "test"
          ],
          [
           "test"
          ],
          [
           "test"
          ],
          [
           "test"
          ],
          [
           "test"
          ],
          [
           "test"
          ],
          [
           "test"
          ],
          [
           "test"
          ],
          [
           "test"
          ],
          [
           "test"
          ],
          [
           "test"
          ],
          [
           "test"
          ],
          [
           "test"
          ],
          [
           "test"
          ],
          [
           "test"
          ],
          [
           "test"
          ],
          [
           "test"
          ],
          [
           "test"
          ],
          [
           "test"
          ],
          [
           "test"
          ],
          [
           "test"
          ],
          [
           "test"
          ],
          [
           "test"
          ],
          [
           "test"
          ],
          [
           "test"
          ],
          [
           "test"
          ],
          [
           "test"
          ],
          [
           "test"
          ],
          [
           "test"
          ],
          [
           "test"
          ],
          [
           "test"
          ],
          [
           "test"
          ],
          [
           "test"
          ],
          [
           "test"
          ],
          [
           "test"
          ],
          [
           "test"
          ],
          [
           "test"
          ],
          [
           "test"
          ],
          [
           "test"
          ],
          [
           "test"
          ],
          [
           "test"
          ],
          [
           "test"
          ],
          [
           "test"
          ],
          [
           "test"
          ],
          [
           "test"
          ],
          [
           "test"
          ],
          [
           "test"
          ],
          [
           "test"
          ],
          [
           "test"
          ],
          [
           "test"
          ],
          [
           "test"
          ],
          [
           "test"
          ],
          [
           "test"
          ],
          [
           "test"
          ],
          [
           "test"
          ],
          [
           "test"
          ],
          [
           "test"
          ],
          [
           "test"
          ],
          [
           "test"
          ],
          [
           "test"
          ],
          [
           "test"
          ],
          [
           "test"
          ],
          [
           "test"
          ],
          [
           "test"
          ],
          [
           "test"
          ],
          [
           "test"
          ],
          [
           "test"
          ],
          [
           "test"
          ],
          [
           "test"
          ],
          [
           "test"
          ],
          [
           "test"
          ],
          [
           "test"
          ],
          [
           "test"
          ],
          [
           "test"
          ],
          [
           "test"
          ],
          [
           "test"
          ],
          [
           "test"
          ],
          [
           "test"
          ],
          [
           "test"
          ],
          [
           "test"
          ],
          [
           "test"
          ],
          [
           "test"
          ],
          [
           "test"
          ],
          [
           "test"
          ],
          [
           "test"
          ],
          [
           "test"
          ],
          [
           "test"
          ],
          [
           "test"
          ],
          [
           "test"
          ],
          [
           "test"
          ],
          [
           "test"
          ],
          [
           "test"
          ],
          [
           "test"
          ],
          [
           "test"
          ],
          [
           "test"
          ],
          [
           "test"
          ],
          [
           "test"
          ]
         ],
         "hovertemplate": "type=%{customdata[0]}<br>latitude=%{lat}<br>longitude=%{lon}<extra></extra>",
         "lat": [
          -0.51,
          -0.528,
          -0.547,
          -0.569,
          -0.598,
          -0.604,
          -0.615,
          -0.627,
          -0.637,
          -0.653,
          -0.659,
          -0.667,
          -0.677,
          -0.702,
          -0.72,
          -0.726,
          -0.727,
          -0.766,
          -0.785,
          -0.787,
          -0.793,
          -0.798,
          -0.799,
          -0.801,
          -0.806,
          -0.829,
          -0.837,
          -0.843,
          -0.853,
          -0.855,
          -0.859,
          -0.866,
          -0.869,
          -0.871,
          -0.905,
          -0.905,
          -0.915,
          -0.925,
          -0.933,
          -0.935,
          -0.938,
          -0.942,
          -0.95,
          -0.956,
          -0.963,
          -0.964,
          -0.964,
          -0.965,
          -0.972,
          -0.972,
          -0.978,
          -0.986,
          -0.989,
          -0.997,
          -0.997,
          -1,
          -1.003,
          -1.004,
          -1.014,
          -1.024,
          -1.036,
          -1.041,
          -1.043,
          -1.045,
          -1.048,
          -1.052,
          -1.062,
          -1.065,
          -1.066,
          -1.067,
          -1.068,
          -1.068,
          -1.07,
          -1.07,
          -1.074,
          -1.076,
          -1.084,
          -1.085,
          -1.092,
          -1.097,
          -1.105,
          -1.115,
          -1.116,
          -1.117,
          -1.118,
          -1.129,
          -1.13,
          -1.139,
          -1.143,
          -1.163,
          -1.167,
          -1.168,
          -1.17,
          -1.171,
          -1.173,
          -1.176,
          -1.176,
          -1.176,
          -1.185,
          -1.187,
          -1.196,
          -1.2,
          -1.203,
          -1.207,
          -1.211,
          -1.214,
          -1.223,
          -1.223,
          -1.225,
          -1.226,
          -1.231,
          -1.231,
          -1.242,
          -1.244,
          -1.252,
          -1.258,
          -1.267,
          -1.274,
          -1.279,
          -1.283,
          -1.289,
          -1.289,
          -1.292,
          -1.299,
          -1.303,
          -1.307,
          -1.315,
          -1.319,
          -1.327,
          -1.328,
          -1.331,
          -1.335,
          -1.339,
          -1.342,
          -1.342,
          -1.342,
          -1.346,
          -1.348,
          -1.355,
          -1.355,
          -1.36,
          -1.364,
          -1.366,
          -1.368,
          -1.371,
          -1.383,
          -1.384,
          -1.398,
          -1.399,
          -1.4,
          -1.408,
          -1.41,
          -1.412,
          -1.413,
          -1.416,
          -1.427,
          -1.429,
          -1.429,
          -1.444,
          -1.45,
          -1.482,
          -1.486,
          -1.486,
          -1.49,
          -1.49,
          -1.492,
          -1.497,
          -1.505,
          -1.51,
          -1.51,
          -1.514,
          -1.516,
          -1.523,
          -1.526,
          -1.528,
          -1.528,
          -1.529,
          -1.53,
          -1.532,
          -1.533,
          -1.533,
          -1.534,
          -1.534,
          -1.536,
          -1.555,
          -1.581,
          -1.583,
          -1.593,
          -1.596,
          -1.597,
          -1.606,
          -1.609,
          -1.613,
          -1.615,
          -1.617,
          -1.621,
          -1.639,
          -1.641,
          -1.649,
          -1.659,
          -1.664,
          -1.667,
          -1.682,
          -1.683,
          -1.683,
          -1.69,
          -1.695,
          -1.696,
          -1.696,
          -1.7,
          -1.712,
          -1.718,
          -1.729,
          -1.73,
          -1.737,
          -1.743,
          -1.753,
          -1.764,
          -1.77,
          -1.77,
          -1.783,
          -1.792,
          -1.797,
          -1.799,
          -1.802,
          -1.802,
          -1.804,
          -1.807,
          -1.808,
          -1.82,
          -1.833,
          -1.839,
          -1.839,
          -1.844,
          -1.845,
          -1.846,
          -1.847,
          -1.847,
          -1.851,
          -1.852,
          -1.858,
          -1.861,
          -1.868,
          -1.871,
          -1.877,
          -1.877,
          -1.88,
          -1.882,
          -1.882,
          -1.889,
          -1.899,
          -1.9,
          -1.902,
          -1.903,
          -1.906,
          -1.911,
          -1.911,
          -1.92,
          -1.922,
          -1.923,
          -1.926,
          -1.929,
          -1.932,
          -1.933,
          -1.938,
          -1.944,
          -1.945,
          -1.951,
          -1.959,
          -1.961,
          -1.961,
          -1.968,
          -1.974,
          -1.978,
          -1.981,
          -1.99,
          -2.015,
          -2.016,
          -2.018,
          -2.032,
          -2.041,
          -2.049,
          -2.049,
          -2.049,
          -2.051,
          -2.053,
          -2.055,
          -2.056,
          -2.058,
          -2.059,
          -2.065,
          -2.07,
          -2.073,
          -2.079,
          -2.08,
          -2.082,
          -2.082,
          -2.091,
          -2.096,
          -2.102,
          -2.119,
          -2.123,
          -2.123,
          -2.125,
          -2.133,
          -2.136,
          -2.153,
          -2.154,
          -2.162,
          -2.166,
          -2.171,
          -2.176,
          -2.177,
          -2.179,
          -2.179,
          -2.18,
          -2.183,
          -2.185,
          -2.185,
          -2.194,
          -2.204,
          -2.235,
          -2.237,
          -2.248,
          -2.254,
          -2.255,
          -2.256,
          -2.257,
          -2.26,
          -2.262,
          -2.267,
          -2.269,
          -2.271,
          -2.272,
          -2.278,
          -2.28,
          -2.282,
          -2.291,
          -2.293,
          -2.3,
          -2.301,
          -2.302,
          -2.311,
          -2.313,
          -2.317,
          -2.319,
          -2.329,
          -2.329,
          -2.33,
          -2.335,
          -2.339,
          -2.341,
          -2.342,
          -2.353,
          -2.362,
          -2.365,
          -2.376,
          -2.378,
          -2.385,
          -2.386,
          -2.399,
          -2.404,
          -2.407,
          -2.422,
          -2.427,
          -2.431,
          -2.432,
          -2.436,
          -2.44,
          -2.441,
          -2.443,
          -2.447,
          -2.451,
          -2.466,
          -2.479,
          -2.484,
          -2.489,
          -2.491,
          -2.496,
          -2.517,
          -2.521,
          -2.522,
          -2.539,
          -2.548,
          -2.555,
          -2.561,
          -2.571,
          -2.583,
          -2.588,
          -2.589,
          -2.595,
          -2.599,
          -2.602,
          -2.61,
          -2.623,
          -2.638,
          -2.64,
          -2.643,
          -2.649,
          -2.652,
          -2.655,
          -2.656,
          -2.656,
          -2.662,
          -2.673,
          -2.676,
          -2.689,
          -2.693,
          -2.696,
          -2.697,
          -2.7,
          -2.71,
          -2.712,
          -2.719,
          -2.719,
          -2.721,
          -2.726,
          -2.734,
          -2.74,
          -2.751,
          -2.752,
          -2.757,
          -2.761,
          -2.763,
          -2.764,
          -2.766,
          -2.77,
          -2.771,
          -2.772,
          -2.783,
          -2.794,
          -2.812,
          -2.815,
          -2.817,
          -2.817,
          -2.818,
          -2.819,
          -2.82,
          -2.821,
          -2.828,
          -2.834,
          -2.836,
          -2.836,
          -2.839,
          -2.841,
          -2.841,
          -2.842,
          -2.846,
          -2.851,
          -2.853,
          -2.855,
          -2.858,
          -2.859,
          -2.859,
          -2.86,
          -2.879,
          -2.883,
          -2.896,
          -2.898,
          -2.899,
          -2.9,
          -2.902,
          -2.922,
          -2.924,
          -2.929,
          -2.931,
          -2.935,
          -2.939,
          -2.944,
          -2.946,
          -2.955,
          -2.958,
          -2.959,
          -2.97,
          -2.972,
          -2.979,
          -2.985,
          -2.986,
          -2.999,
          -3.016,
          -3.016,
          -3.023,
          -3.025,
          -3.028,
          -3.032,
          -3.047,
          -3.054,
          -3.095,
          -3.099,
          -3.133,
          -3.136,
          -3.138,
          -3.153,
          -3.161,
          -3.174,
          -3.287,
          -3.299
         ],
         "legendgroup": "test",
         "lon": [
          29.29,
          29.472,
          29.653,
          30.031,
          29.102,
          29.896,
          30.885,
          29.773,
          30.763,
          30.447,
          30.341,
          30.433,
          29.623,
          29.798,
          30.48,
          29.374,
          30.573,
          29.534,
          29.115,
          30.513,
          30.607,
          29.402,
          29.201,
          29.499,
          31.494,
          30.471,
          29.863,
          30.657,
          30.647,
          30.145,
          30.441,
          30.734,
          29.231,
          30.029,
          29.495,
          29.995,
          28.985,
          29.875,
          29.267,
          29.765,
          29.262,
          30.258,
          31.45,
          30.744,
          30.237,
          29.436,
          29.636,
          29.735,
          29.628,
          30.628,
          29.722,
          30.214,
          30.411,
          30.403,
          30.603,
          29.8,
          29.497,
          31.396,
          29.786,
          28.976,
          28.964,
          29.859,
          29.057,
          30.455,
          30.252,
          30.948,
          28.838,
          31.035,
          29.734,
          29.833,
          31.332,
          31.532,
          29.33,
          30.03,
          29.826,
          28.724,
          29.616,
          29.215,
          31.108,
          29.903,
          29.995,
          30.085,
          29.684,
          29.883,
          30.282,
          31.371,
          30.07,
          30.561,
          30.957,
          29.537,
          30.633,
          30.232,
          29.33,
          31.329,
          30.727,
          30.624,
          31.324,
          31.524,
          28.915,
          31.113,
          30.404,
          31,
          31.397,
          30.693,
          30.389,
          30.786,
          29.377,
          29.877,
          30.975,
          30.274,
          30.269,
          30.969,
          30.658,
          29.856,
          28.848,
          30.042,
          29.233,
          29.926,
          30.521,
          30.417,
          28.911,
          29.711,
          29.408,
          29.601,
          28.997,
          30.393,
          29.785,
          30.281,
          30.973,
          28.872,
          29.669,
          29.465,
          29.961,
          29.258,
          30.158,
          31.358,
          31.254,
          29.552,
          30.245,
          30.645,
          30.34,
          29.036,
          29.434,
          30.932,
          29.629,
          29.917,
          28.916,
          29.702,
          29.601,
          30,
          31.292,
          31.39,
          31.188,
          30.287,
          31.284,
          30.073,
          30.171,
          30.971,
          30.856,
          29.35,
          30.618,
          29.314,
          29.614,
          30.31,
          30.51,
          30.308,
          30.603,
          30.995,
          29.89,
          30.19,
          29.686,
          28.984,
          30.677,
          29.874,
          29.972,
          31.372,
          30.971,
          30.87,
          28.568,
          28.467,
          29.967,
          30.366,
          31.466,
          28.364,
          30.945,
          30.819,
          28.517,
          30.207,
          29.404,
          29.603,
          30.294,
          29.391,
          28.487,
          30.285,
          30.683,
          30.479,
          31.061,
          31.259,
          29.351,
          29.641,
          30.336,
          30.933,
          29.218,
          29.617,
          31.217,
          28.51,
          31.405,
          28.304,
          30.704,
          30.9,
          28.688,
          30.382,
          30.471,
          28.47,
          30.063,
          29.457,
          28.547,
          31.436,
          29.13,
          31.03,
          31.117,
          30.408,
          30.303,
          28.601,
          29.798,
          31.198,
          31.196,
          30.093,
          29.892,
          31.28,
          28.467,
          28.761,
          30.961,
          30.356,
          29.355,
          29.554,
          28.753,
          30.953,
          30.949,
          29.948,
          31.442,
          30.939,
          29.832,
          29.729,
          28.523,
          30.623,
          30.72,
          28.718,
          30.018,
          29.611,
          31.201,
          29.5,
          28.398,
          28.297,
          29.694,
          29.389,
          30.189,
          29.68,
          29.178,
          29.777,
          28.474,
          28.771,
          31.068,
          30.367,
          31.362,
          28.556,
          29.155,
          28.649,
          30.341,
          28.939,
          31.339,
          30.932,
          28.526,
          31.122,
          31.219,
          30.41,
          30.985,
          31.184,
          28.882,
          29.168,
          30.559,
          29.151,
          29.551,
          30.751,
          29.949,
          30.647,
          30.845,
          30.544,
          30.642,
          28.741,
          30.235,
          29.23,
          28.627,
          29.321,
          28.62,
          29.218,
          30.418,
          30.709,
          28.404,
          29.898,
          29.281,
          28.977,
          31.277,
          30.375,
          30.467,
          30.264,
          29.947,
          29.946,
          30.138,
          31.234,
          28.629,
          29.324,
          30.223,
          29.121,
          30.621,
          29.62,
          30.917,
          29.515,
          30.515,
          29.506,
          30.996,
          30.765,
          30.763,
          28.652,
          30.446,
          28.645,
          28.744,
          30.243,
          30.84,
          30.838,
          29.933,
          30.231,
          29.929,
          29.128,
          29.722,
          29.92,
          29.018,
          29.609,
          29.507,
          29.2,
          29.899,
          29.198,
          29.489,
          29.787,
          28.883,
          31.181,
          28.671,
          30.071,
          29.57,
          29.665,
          28.461,
          29.059,
          29.458,
          30.847,
          30.638,
          30.535,
          29.924,
          29.222,
          28.715,
          30.314,
          29.901,
          30.496,
          29.393,
          28.778,
          28.673,
          29.269,
          29.568,
          30.464,
          29.06,
          28.959,
          28.657,
          28.353,
          28.249,
          30.334,
          29.421,
          30.116,
          28.811,
          29.309,
          28.504,
          29.883,
          29.179,
          29.078,
          28.461,
          29.752,
          29.145,
          29.839,
          30.029,
          29.617,
          29.912,
          28.311,
          28.905,
          29.801,
          29.898,
          28.79,
          28.977,
          29.562,
          29.46,
          29.257,
          28.651,
          29.148,
          30.245,
          29.744,
          30.944,
          30.138,
          29.327,
          28.724,
          28.811,
          28.607,
          29.304,
          29.403,
          29.5,
          30.19,
          29.488,
          30.281,
          30.981,
          29.979,
          30.474,
          29.766,
          29.66,
          29.249,
          30.048,
          29.543,
          28.439,
          30.337,
          29.136,
          30.734,
          28.93,
          30.029,
          30.928,
          28.817,
          28.306,
          30.488,
          30.285,
          29.283,
          29.783,
          29.582,
          29.981,
          28.38,
          29.479,
          29.872,
          30.466,
          30.064,
          30.364,
          28.861,
          28.659,
          29.159,
          28.958,
          28.454,
          30.249,
          28.547,
          29.145,
          28.642,
          29.041,
          29.441,
          28.74,
          30.621,
          29.017,
          29.404,
          29.002,
          29.601,
          29.3,
          30.398,
          29.178,
          29.976,
          29.771,
          29.569,
          29.565,
          30.461,
          29.356,
          30.454,
          30.245,
          29.442,
          30.641,
          30.03,
          28.228,
          30.021,
          30.415,
          29.114,
          30.701,
          30.384,
          30.584,
          30.177,
          30.275,
          28.872,
          29.168,
          28.753,
          29.046,
          29.505,
          29.601,
          29.467,
          30.364,
          30.662,
          30.347,
          28.839,
          29.926,
          29.713,
          30.301
         ],
         "marker": {
          "color": "#EF553B"
         },
         "mode": "markers",
         "name": "test",
         "showlegend": true,
         "subplot": "mapbox",
         "type": "scattermapbox"
        }
       ],
       "layout": {
        "height": 800,
        "legend": {
         "title": {
          "text": "type"
         },
         "tracegroupgap": 0
        },
        "mapbox": {
         "center": {
          "lat": -1.891072434607646,
          "lon": 29.88015492957746
         },
         "domain": {
          "x": [
           0,
           1
          ],
          "y": [
           0,
           1
          ]
         },
         "style": "open-street-map",
         "zoom": 8
        },
        "margin": {
         "b": 0,
         "l": 0,
         "r": 0,
         "t": 0
        },
        "template": {
         "data": {
          "bar": [
           {
            "error_x": {
             "color": "#2a3f5f"
            },
            "error_y": {
             "color": "#2a3f5f"
            },
            "marker": {
             "line": {
              "color": "#E5ECF6",
              "width": 0.5
             },
             "pattern": {
              "fillmode": "overlay",
              "size": 10,
              "solidity": 0.2
             }
            },
            "type": "bar"
           }
          ],
          "barpolar": [
           {
            "marker": {
             "line": {
              "color": "#E5ECF6",
              "width": 0.5
             },
             "pattern": {
              "fillmode": "overlay",
              "size": 10,
              "solidity": 0.2
             }
            },
            "type": "barpolar"
           }
          ],
          "carpet": [
           {
            "aaxis": {
             "endlinecolor": "#2a3f5f",
             "gridcolor": "white",
             "linecolor": "white",
             "minorgridcolor": "white",
             "startlinecolor": "#2a3f5f"
            },
            "baxis": {
             "endlinecolor": "#2a3f5f",
             "gridcolor": "white",
             "linecolor": "white",
             "minorgridcolor": "white",
             "startlinecolor": "#2a3f5f"
            },
            "type": "carpet"
           }
          ],
          "choropleth": [
           {
            "colorbar": {
             "outlinewidth": 0,
             "ticks": ""
            },
            "type": "choropleth"
           }
          ],
          "contour": [
           {
            "colorbar": {
             "outlinewidth": 0,
             "ticks": ""
            },
            "colorscale": [
             [
              0,
              "#0d0887"
             ],
             [
              0.1111111111111111,
              "#46039f"
             ],
             [
              0.2222222222222222,
              "#7201a8"
             ],
             [
              0.3333333333333333,
              "#9c179e"
             ],
             [
              0.4444444444444444,
              "#bd3786"
             ],
             [
              0.5555555555555556,
              "#d8576b"
             ],
             [
              0.6666666666666666,
              "#ed7953"
             ],
             [
              0.7777777777777778,
              "#fb9f3a"
             ],
             [
              0.8888888888888888,
              "#fdca26"
             ],
             [
              1,
              "#f0f921"
             ]
            ],
            "type": "contour"
           }
          ],
          "contourcarpet": [
           {
            "colorbar": {
             "outlinewidth": 0,
             "ticks": ""
            },
            "type": "contourcarpet"
           }
          ],
          "heatmap": [
           {
            "colorbar": {
             "outlinewidth": 0,
             "ticks": ""
            },
            "colorscale": [
             [
              0,
              "#0d0887"
             ],
             [
              0.1111111111111111,
              "#46039f"
             ],
             [
              0.2222222222222222,
              "#7201a8"
             ],
             [
              0.3333333333333333,
              "#9c179e"
             ],
             [
              0.4444444444444444,
              "#bd3786"
             ],
             [
              0.5555555555555556,
              "#d8576b"
             ],
             [
              0.6666666666666666,
              "#ed7953"
             ],
             [
              0.7777777777777778,
              "#fb9f3a"
             ],
             [
              0.8888888888888888,
              "#fdca26"
             ],
             [
              1,
              "#f0f921"
             ]
            ],
            "type": "heatmap"
           }
          ],
          "heatmapgl": [
           {
            "colorbar": {
             "outlinewidth": 0,
             "ticks": ""
            },
            "colorscale": [
             [
              0,
              "#0d0887"
             ],
             [
              0.1111111111111111,
              "#46039f"
             ],
             [
              0.2222222222222222,
              "#7201a8"
             ],
             [
              0.3333333333333333,
              "#9c179e"
             ],
             [
              0.4444444444444444,
              "#bd3786"
             ],
             [
              0.5555555555555556,
              "#d8576b"
             ],
             [
              0.6666666666666666,
              "#ed7953"
             ],
             [
              0.7777777777777778,
              "#fb9f3a"
             ],
             [
              0.8888888888888888,
              "#fdca26"
             ],
             [
              1,
              "#f0f921"
             ]
            ],
            "type": "heatmapgl"
           }
          ],
          "histogram": [
           {
            "marker": {
             "pattern": {
              "fillmode": "overlay",
              "size": 10,
              "solidity": 0.2
             }
            },
            "type": "histogram"
           }
          ],
          "histogram2d": [
           {
            "colorbar": {
             "outlinewidth": 0,
             "ticks": ""
            },
            "colorscale": [
             [
              0,
              "#0d0887"
             ],
             [
              0.1111111111111111,
              "#46039f"
             ],
             [
              0.2222222222222222,
              "#7201a8"
             ],
             [
              0.3333333333333333,
              "#9c179e"
             ],
             [
              0.4444444444444444,
              "#bd3786"
             ],
             [
              0.5555555555555556,
              "#d8576b"
             ],
             [
              0.6666666666666666,
              "#ed7953"
             ],
             [
              0.7777777777777778,
              "#fb9f3a"
             ],
             [
              0.8888888888888888,
              "#fdca26"
             ],
             [
              1,
              "#f0f921"
             ]
            ],
            "type": "histogram2d"
           }
          ],
          "histogram2dcontour": [
           {
            "colorbar": {
             "outlinewidth": 0,
             "ticks": ""
            },
            "colorscale": [
             [
              0,
              "#0d0887"
             ],
             [
              0.1111111111111111,
              "#46039f"
             ],
             [
              0.2222222222222222,
              "#7201a8"
             ],
             [
              0.3333333333333333,
              "#9c179e"
             ],
             [
              0.4444444444444444,
              "#bd3786"
             ],
             [
              0.5555555555555556,
              "#d8576b"
             ],
             [
              0.6666666666666666,
              "#ed7953"
             ],
             [
              0.7777777777777778,
              "#fb9f3a"
             ],
             [
              0.8888888888888888,
              "#fdca26"
             ],
             [
              1,
              "#f0f921"
             ]
            ],
            "type": "histogram2dcontour"
           }
          ],
          "mesh3d": [
           {
            "colorbar": {
             "outlinewidth": 0,
             "ticks": ""
            },
            "type": "mesh3d"
           }
          ],
          "parcoords": [
           {
            "line": {
             "colorbar": {
              "outlinewidth": 0,
              "ticks": ""
             }
            },
            "type": "parcoords"
           }
          ],
          "pie": [
           {
            "automargin": true,
            "type": "pie"
           }
          ],
          "scatter": [
           {
            "fillpattern": {
             "fillmode": "overlay",
             "size": 10,
             "solidity": 0.2
            },
            "type": "scatter"
           }
          ],
          "scatter3d": [
           {
            "line": {
             "colorbar": {
              "outlinewidth": 0,
              "ticks": ""
             }
            },
            "marker": {
             "colorbar": {
              "outlinewidth": 0,
              "ticks": ""
             }
            },
            "type": "scatter3d"
           }
          ],
          "scattercarpet": [
           {
            "marker": {
             "colorbar": {
              "outlinewidth": 0,
              "ticks": ""
             }
            },
            "type": "scattercarpet"
           }
          ],
          "scattergeo": [
           {
            "marker": {
             "colorbar": {
              "outlinewidth": 0,
              "ticks": ""
             }
            },
            "type": "scattergeo"
           }
          ],
          "scattergl": [
           {
            "marker": {
             "colorbar": {
              "outlinewidth": 0,
              "ticks": ""
             }
            },
            "type": "scattergl"
           }
          ],
          "scattermapbox": [
           {
            "marker": {
             "colorbar": {
              "outlinewidth": 0,
              "ticks": ""
             }
            },
            "type": "scattermapbox"
           }
          ],
          "scatterpolar": [
           {
            "marker": {
             "colorbar": {
              "outlinewidth": 0,
              "ticks": ""
             }
            },
            "type": "scatterpolar"
           }
          ],
          "scatterpolargl": [
           {
            "marker": {
             "colorbar": {
              "outlinewidth": 0,
              "ticks": ""
             }
            },
            "type": "scatterpolargl"
           }
          ],
          "scatterternary": [
           {
            "marker": {
             "colorbar": {
              "outlinewidth": 0,
              "ticks": ""
             }
            },
            "type": "scatterternary"
           }
          ],
          "surface": [
           {
            "colorbar": {
             "outlinewidth": 0,
             "ticks": ""
            },
            "colorscale": [
             [
              0,
              "#0d0887"
             ],
             [
              0.1111111111111111,
              "#46039f"
             ],
             [
              0.2222222222222222,
              "#7201a8"
             ],
             [
              0.3333333333333333,
              "#9c179e"
             ],
             [
              0.4444444444444444,
              "#bd3786"
             ],
             [
              0.5555555555555556,
              "#d8576b"
             ],
             [
              0.6666666666666666,
              "#ed7953"
             ],
             [
              0.7777777777777778,
              "#fb9f3a"
             ],
             [
              0.8888888888888888,
              "#fdca26"
             ],
             [
              1,
              "#f0f921"
             ]
            ],
            "type": "surface"
           }
          ],
          "table": [
           {
            "cells": {
             "fill": {
              "color": "#EBF0F8"
             },
             "line": {
              "color": "white"
             }
            },
            "header": {
             "fill": {
              "color": "#C8D4E3"
             },
             "line": {
              "color": "white"
             }
            },
            "type": "table"
           }
          ]
         },
         "layout": {
          "annotationdefaults": {
           "arrowcolor": "#2a3f5f",
           "arrowhead": 0,
           "arrowwidth": 1
          },
          "autotypenumbers": "strict",
          "coloraxis": {
           "colorbar": {
            "outlinewidth": 0,
            "ticks": ""
           }
          },
          "colorscale": {
           "diverging": [
            [
             0,
             "#8e0152"
            ],
            [
             0.1,
             "#c51b7d"
            ],
            [
             0.2,
             "#de77ae"
            ],
            [
             0.3,
             "#f1b6da"
            ],
            [
             0.4,
             "#fde0ef"
            ],
            [
             0.5,
             "#f7f7f7"
            ],
            [
             0.6,
             "#e6f5d0"
            ],
            [
             0.7,
             "#b8e186"
            ],
            [
             0.8,
             "#7fbc41"
            ],
            [
             0.9,
             "#4d9221"
            ],
            [
             1,
             "#276419"
            ]
           ],
           "sequential": [
            [
             0,
             "#0d0887"
            ],
            [
             0.1111111111111111,
             "#46039f"
            ],
            [
             0.2222222222222222,
             "#7201a8"
            ],
            [
             0.3333333333333333,
             "#9c179e"
            ],
            [
             0.4444444444444444,
             "#bd3786"
            ],
            [
             0.5555555555555556,
             "#d8576b"
            ],
            [
             0.6666666666666666,
             "#ed7953"
            ],
            [
             0.7777777777777778,
             "#fb9f3a"
            ],
            [
             0.8888888888888888,
             "#fdca26"
            ],
            [
             1,
             "#f0f921"
            ]
           ],
           "sequentialminus": [
            [
             0,
             "#0d0887"
            ],
            [
             0.1111111111111111,
             "#46039f"
            ],
            [
             0.2222222222222222,
             "#7201a8"
            ],
            [
             0.3333333333333333,
             "#9c179e"
            ],
            [
             0.4444444444444444,
             "#bd3786"
            ],
            [
             0.5555555555555556,
             "#d8576b"
            ],
            [
             0.6666666666666666,
             "#ed7953"
            ],
            [
             0.7777777777777778,
             "#fb9f3a"
            ],
            [
             0.8888888888888888,
             "#fdca26"
            ],
            [
             1,
             "#f0f921"
            ]
           ]
          },
          "colorway": [
           "#636efa",
           "#EF553B",
           "#00cc96",
           "#ab63fa",
           "#FFA15A",
           "#19d3f3",
           "#FF6692",
           "#B6E880",
           "#FF97FF",
           "#FECB52"
          ],
          "font": {
           "color": "#2a3f5f"
          },
          "geo": {
           "bgcolor": "white",
           "lakecolor": "white",
           "landcolor": "#E5ECF6",
           "showlakes": true,
           "showland": true,
           "subunitcolor": "white"
          },
          "hoverlabel": {
           "align": "left"
          },
          "hovermode": "closest",
          "mapbox": {
           "style": "light"
          },
          "paper_bgcolor": "white",
          "plot_bgcolor": "#E5ECF6",
          "polar": {
           "angularaxis": {
            "gridcolor": "white",
            "linecolor": "white",
            "ticks": ""
           },
           "bgcolor": "#E5ECF6",
           "radialaxis": {
            "gridcolor": "white",
            "linecolor": "white",
            "ticks": ""
           }
          },
          "scene": {
           "xaxis": {
            "backgroundcolor": "#E5ECF6",
            "gridcolor": "white",
            "gridwidth": 2,
            "linecolor": "white",
            "showbackground": true,
            "ticks": "",
            "zerolinecolor": "white"
           },
           "yaxis": {
            "backgroundcolor": "#E5ECF6",
            "gridcolor": "white",
            "gridwidth": 2,
            "linecolor": "white",
            "showbackground": true,
            "ticks": "",
            "zerolinecolor": "white"
           },
           "zaxis": {
            "backgroundcolor": "#E5ECF6",
            "gridcolor": "white",
            "gridwidth": 2,
            "linecolor": "white",
            "showbackground": true,
            "ticks": "",
            "zerolinecolor": "white"
           }
          },
          "shapedefaults": {
           "line": {
            "color": "#2a3f5f"
           }
          },
          "ternary": {
           "aaxis": {
            "gridcolor": "white",
            "linecolor": "white",
            "ticks": ""
           },
           "baxis": {
            "gridcolor": "white",
            "linecolor": "white",
            "ticks": ""
           },
           "bgcolor": "#E5ECF6",
           "caxis": {
            "gridcolor": "white",
            "linecolor": "white",
            "ticks": ""
           }
          },
          "title": {
           "x": 0.05
          },
          "xaxis": {
           "automargin": true,
           "gridcolor": "white",
           "linecolor": "white",
           "ticks": "",
           "title": {
            "standoff": 15
           },
           "zerolinecolor": "white",
           "zerolinewidth": 2
          },
          "yaxis": {
           "automargin": true,
           "gridcolor": "white",
           "linecolor": "white",
           "ticks": "",
           "title": {
            "standoff": 15
           },
           "zerolinecolor": "white",
           "zerolinewidth": 2
          }
         }
        },
        "width": 800
       }
      }
     },
     "metadata": {},
     "output_type": "display_data"
    }
   ],
   "source": [
    "import plotly.express as px\n",
    "fig= px.scatter_mapbox(geo_df,\n",
    "                       lat=\"latitude\",\n",
    "                       lon='longitude',\n",
    "                       hover_data='type',\n",
    "                       color='type',\n",
    "                       zoom=8,\n",
    "                       height=800,\n",
    "                       width=800)\n",
    "fig.update_layout(mapbox_style=\"open-street-map\")\n",
    "fig.update_layout(margin={\"r\":0,\"t\":0,\"l\":0,\"b\":0})\n",
    "fig.show()"
   ]
  },
  {
   "cell_type": "markdown",
   "metadata": {},
   "source": [
    "As we cannot understand the percentage of the null values "
   ]
  },
  {
   "cell_type": "code",
   "execution_count": 101,
   "metadata": {},
   "outputs": [
    {
     "data": {
      "text/plain": [
       "ID_LAT_LON_YEAR_WEEK          0.00000\n",
       "latitude                      0.00000\n",
       "longitude                     0.00000\n",
       "year                          0.00000\n",
       "week_no                       0.00000\n",
       "                               ...   \n",
       "Cloud_sensor_azimuth_angle    0.61248\n",
       "Cloud_sensor_zenith_angle     0.61248\n",
       "Cloud_solar_azimuth_angle     0.61248\n",
       "Cloud_solar_zenith_angle      0.61248\n",
       "emission                      0.00000\n",
       "Length: 76, dtype: float64"
      ]
     },
     "execution_count": 101,
     "metadata": {},
     "output_type": "execute_result"
    }
   ],
   "source": [
    "(train.isnull().sum())/train.shape[0]*100"
   ]
  },
  {
   "cell_type": "code",
   "execution_count": 102,
   "metadata": {},
   "outputs": [
    {
     "data": {
      "text/plain": [
       "<Axes: >"
      ]
     },
     "execution_count": 102,
     "metadata": {},
     "output_type": "execute_result"
    },
    {
     "data": {
      "image/png": "[encoded data removed]",
      "text/plain": [
       "<Figure size 1500x500 with 1 Axes>"
      ]
     },
     "metadata": {},
     "output_type": "display_data"
    }
   ],
   "source": [
    "plt.figure(figsize=(15,5))\n",
    "percentage_of_missing_values_in_train = (train.isnull().sum())/train.shape[0]*100\n",
    "percentage_of_missing_values_in_train.plot(kind=\"bar\")"
   ]
  },
  {
   "cell_type": "code",
   "execution_count": 103,
   "metadata": {},
   "outputs": [
    {
     "data": {
      "text/plain": [
       "UvAerosolLayerHeight_solar_zenith_angle                    99.444466\n",
       "UvAerosolLayerHeight_solar_azimuth_angle                   99.444466\n",
       "UvAerosolLayerHeight_sensor_azimuth_angle                  99.444466\n",
       "UvAerosolLayerHeight_sensor_zenith_angle                   99.444466\n",
       "UvAerosolLayerHeight_aerosol_optical_depth                 99.444466\n",
       "UvAerosolLayerHeight_aerosol_pressure                      99.444466\n",
       "UvAerosolLayerHeight_aerosol_height                        99.444466\n",
       "NitrogenDioxide_solar_azimuth_angle                        23.183124\n",
       "NitrogenDioxide_solar_zenith_angle                         23.183124\n",
       "NitrogenDioxide_NO2_column_number_density                  23.183124\n",
       "NitrogenDioxide_tropospheric_NO2_column_number_density     23.183124\n",
       "NitrogenDioxide_sensor_azimuth_angle                       23.183124\n",
       "NitrogenDioxide_sensor_altitude                            23.183124\n",
       "NitrogenDioxide_cloud_fraction                             23.183124\n",
       "NitrogenDioxide_absorbing_aerosol_index                    23.183124\n",
       "NitrogenDioxide_tropopause_pressure                        23.183124\n",
       "NitrogenDioxide_NO2_slant_column_number_density            23.183124\n",
       "NitrogenDioxide_stratospheric_NO2_column_number_density    23.183124\n",
       "NitrogenDioxide_sensor_zenith_angle                        23.183124\n",
       "dtype: float64"
      ]
     },
     "execution_count": 103,
     "metadata": {},
     "output_type": "execute_result"
    }
   ],
   "source": [
    "percentage_of_missing_values_in_train[percentage_of_missing_values_in_train>=20].sort_values(ascending=False)"
   ]
  },
  {
   "cell_type": "code",
   "execution_count": 104,
   "metadata": {},
   "outputs": [
    {
     "data": {
      "text/plain": [
       "['NitrogenDioxide_NO2_column_number_density',\n",
       " 'NitrogenDioxide_tropospheric_NO2_column_number_density',\n",
       " 'NitrogenDioxide_stratospheric_NO2_column_number_density',\n",
       " 'NitrogenDioxide_NO2_slant_column_number_density',\n",
       " 'NitrogenDioxide_tropopause_pressure',\n",
       " 'NitrogenDioxide_absorbing_aerosol_index',\n",
       " 'NitrogenDioxide_cloud_fraction',\n",
       " 'NitrogenDioxide_sensor_altitude',\n",
       " 'NitrogenDioxide_sensor_azimuth_angle',\n",
       " 'NitrogenDioxide_sensor_zenith_angle',\n",
       " 'NitrogenDioxide_solar_azimuth_angle',\n",
       " 'NitrogenDioxide_solar_zenith_angle',\n",
       " 'UvAerosolLayerHeight_aerosol_height',\n",
       " 'UvAerosolLayerHeight_aerosol_pressure',\n",
       " 'UvAerosolLayerHeight_aerosol_optical_depth',\n",
       " 'UvAerosolLayerHeight_sensor_zenith_angle',\n",
       " 'UvAerosolLayerHeight_sensor_azimuth_angle',\n",
       " 'UvAerosolLayerHeight_solar_azimuth_angle',\n",
       " 'UvAerosolLayerHeight_solar_zenith_angle']"
      ]
     },
     "execution_count": 104,
     "metadata": {},
     "output_type": "execute_result"
    }
   ],
   "source": [
    "percentage_of_missing_values_in_train[percentage_of_missing_values_in_train>=20].index.tolist()"
   ]
  },
  {
   "cell_type": "code",
   "execution_count": 105,
   "metadata": {},
   "outputs": [
    {
     "data": {
      "text/plain": [
       "(79023, 76)"
      ]
     },
     "execution_count": 105,
     "metadata": {},
     "output_type": "execute_result"
    }
   ],
   "source": [
    "train.shape"
   ]
  },
  {
   "cell_type": "markdown",
   "metadata": {},
   "source": [
    "As there are more missing values we drop the columns "
   ]
  },
  {
   "cell_type": "code",
   "execution_count": 106,
   "metadata": {},
   "outputs": [],
   "source": [
    "train.drop(percentage_of_missing_values_in_train[percentage_of_missing_values_in_train>=20].index.tolist(),axis=1,inplace=True)\n",
    "test.drop(percentage_of_missing_values_in_train[percentage_of_missing_values_in_train>=20].index.tolist(), axis = 1, inplace = True)"
   ]
  },
  {
   "cell_type": "code",
   "execution_count": 107,
   "metadata": {},
   "outputs": [],
   "source": [
    "mean_train= train.mean()\n",
    "mean_test= test.mean()"
   ]
  },
  {
   "cell_type": "code",
   "execution_count": 108,
   "metadata": {},
   "outputs": [],
   "source": [
    "train.fillna(mean_train,inplace=True)\n",
    "test.fillna(mean_test,inplace=True)"
   ]
  },
  {
   "cell_type": "code",
   "execution_count": 109,
   "metadata": {},
   "outputs": [
    {
     "data": {
      "image/png": "[encoded data removed]",
      "text/plain": [
       "<Figure size 640x480 with 2 Axes>"
      ]
     },
     "metadata": {},
     "output_type": "display_data"
    }
   ],
   "source": [
    "import seaborn as sns\n",
    "sns.heatmap(train.isna())\n",
    "plt.show()"
   ]
  },
  {
   "cell_type": "markdown",
   "metadata": {},
   "source": [
    "so now no null values are present in the train and test"
   ]
  },
  {
   "cell_type": "code",
   "execution_count": 110,
   "metadata": {},
   "outputs": [
    {
     "data": {
      "text/html": [
       "<div>\n",
       "<style scoped>\n",
       "    .dataframe tbody tr th:only-of-type {\n",
       "        vertical-align: middle;\n",
       "    }\n",
       "\n",
       "    .dataframe tbody tr th {\n",
       "        vertical-align: top;\n",
       "    }\n",
       "\n",
       "    .dataframe thead th {\n",
       "        text-align: right;\n",
       "    }\n",
       "</style>\n",
       "<table border=\"1\" class=\"dataframe\">\n",
       "  <thead>\n",
       "    <tr style=\"text-align: right;\">\n",
       "      <th></th>\n",
       "      <th>emission</th>\n",
       "    </tr>\n",
       "  </thead>\n",
       "  <tbody>\n",
       "    <tr>\n",
       "      <th>emission</th>\n",
       "      <td>1.000000</td>\n",
       "    </tr>\n",
       "    <tr>\n",
       "      <th>longitude</th>\n",
       "      <td>0.102746</td>\n",
       "    </tr>\n",
       "    <tr>\n",
       "      <th>Cloud_surface_albedo</th>\n",
       "      <td>0.046530</td>\n",
       "    </tr>\n",
       "    <tr>\n",
       "      <th>Formaldehyde_tropospheric_HCHO_column_number_density_amf</th>\n",
       "      <td>0.037577</td>\n",
       "    </tr>\n",
       "    <tr>\n",
       "      <th>latitude</th>\n",
       "      <td>0.017851</td>\n",
       "    </tr>\n",
       "    <tr>\n",
       "      <th>Ozone_O3_column_number_density</th>\n",
       "      <td>0.013792</td>\n",
       "    </tr>\n",
       "    <tr>\n",
       "      <th>UvAerosolIndex_sensor_azimuth_angle</th>\n",
       "      <td>0.008288</td>\n",
       "    </tr>\n",
       "    <tr>\n",
       "      <th>Ozone_sensor_azimuth_angle</th>\n",
       "      <td>0.007763</td>\n",
       "    </tr>\n",
       "    <tr>\n",
       "      <th>Cloud_sensor_azimuth_angle</th>\n",
       "      <td>0.007749</td>\n",
       "    </tr>\n",
       "    <tr>\n",
       "      <th>week_no</th>\n",
       "      <td>0.007086</td>\n",
       "    </tr>\n",
       "  </tbody>\n",
       "</table>\n",
       "</div>"
      ],
      "text/plain": [
       "                                                    emission\n",
       "emission                                            1.000000\n",
       "longitude                                           0.102746\n",
       "Cloud_surface_albedo                                0.046530\n",
       "Formaldehyde_tropospheric_HCHO_column_number_de...  0.037577\n",
       "latitude                                            0.017851\n",
       "Ozone_O3_column_number_density                      0.013792\n",
       "UvAerosolIndex_sensor_azimuth_angle                 0.008288\n",
       "Ozone_sensor_azimuth_angle                          0.007763\n",
       "Cloud_sensor_azimuth_angle                          0.007749\n",
       "week_no                                             0.007086"
      ]
     },
     "execution_count": 110,
     "metadata": {},
     "output_type": "execute_result"
    }
   ],
   "source": [
    "train.corr()[[\"emission\"]].sort_values(by=\"emission\",ascending=False)[:10]"
   ]
  },
  {
   "cell_type": "markdown",
   "metadata": {},
   "source": [
    "# Correlations"
   ]
  },
  {
   "cell_type": "code",
   "execution_count": 111,
   "metadata": {},
   "outputs": [
    {
     "data": {
      "text/plain": [
       "<Axes: >"
      ]
     },
     "execution_count": 111,
     "metadata": {},
     "output_type": "execute_result"
    },
    {
     "data": {
      "image/png": "[encoded data removed]",
      "text/plain": [
       "<Figure size 640x480 with 2 Axes>"
      ]
     },
     "metadata": {},
     "output_type": "display_data"
    }
   ],
   "source": [
    "sns.heatmap(train.corr()[[\"emission\"]].sort_values(by=\"emission\",ascending=False)[:10],vmin=0,vmax=1,annot=True,cmap='BrBG')"
   ]
  },
  {
   "cell_type": "markdown",
   "metadata": {},
   "source": [
    "There is no significant relationship between different parameters and emission"
   ]
  },
  {
   "cell_type": "markdown",
   "metadata": {},
   "source": [
    "# Model Development"
   ]
  },
  {
   "cell_type": "code",
   "execution_count": 126,
   "metadata": {},
   "outputs": [],
   "source": [
    "from sklearn.neighbors import KNeighborsRegressor\n",
    "from sklearn.linear_model import LinearRegression\n",
    "LR= LinearRegression()\n",
    "KNN = KNeighborsRegressor()"
   ]
  },
  {
   "cell_type": "code",
   "execution_count": 113,
   "metadata": {},
   "outputs": [
    {
     "data": {
      "text/html": [
       "<div>\n",
       "<style scoped>\n",
       "    .dataframe tbody tr th:only-of-type {\n",
       "        vertical-align: middle;\n",
       "    }\n",
       "\n",
       "    .dataframe tbody tr th {\n",
       "        vertical-align: top;\n",
       "    }\n",
       "\n",
       "    .dataframe thead th {\n",
       "        text-align: right;\n",
       "    }\n",
       "</style>\n",
       "<table border=\"1\" class=\"dataframe\">\n",
       "  <thead>\n",
       "    <tr style=\"text-align: right;\">\n",
       "      <th></th>\n",
       "      <th>ID_LAT_LON_YEAR_WEEK</th>\n",
       "      <th>latitude</th>\n",
       "      <th>longitude</th>\n",
       "      <th>year</th>\n",
       "      <th>week_no</th>\n",
       "      <th>SulphurDioxide_SO2_column_number_density</th>\n",
       "      <th>SulphurDioxide_SO2_column_number_density_amf</th>\n",
       "      <th>SulphurDioxide_SO2_slant_column_number_density</th>\n",
       "      <th>SulphurDioxide_cloud_fraction</th>\n",
       "      <th>SulphurDioxide_sensor_azimuth_angle</th>\n",
       "      <th>...</th>\n",
       "      <th>Cloud_cloud_top_height</th>\n",
       "      <th>Cloud_cloud_base_pressure</th>\n",
       "      <th>Cloud_cloud_base_height</th>\n",
       "      <th>Cloud_cloud_optical_depth</th>\n",
       "      <th>Cloud_surface_albedo</th>\n",
       "      <th>Cloud_sensor_azimuth_angle</th>\n",
       "      <th>Cloud_sensor_zenith_angle</th>\n",
       "      <th>Cloud_solar_azimuth_angle</th>\n",
       "      <th>Cloud_solar_zenith_angle</th>\n",
       "      <th>emission</th>\n",
       "    </tr>\n",
       "  </thead>\n",
       "  <tbody>\n",
       "    <tr>\n",
       "      <th>0</th>\n",
       "      <td>ID_-0.510_29.290_2019_00</td>\n",
       "      <td>-0.51</td>\n",
       "      <td>29.29</td>\n",
       "      <td>2019</td>\n",
       "      <td>0</td>\n",
       "      <td>-0.000108</td>\n",
       "      <td>0.603019</td>\n",
       "      <td>-0.000065</td>\n",
       "      <td>0.255668</td>\n",
       "      <td>-98.593887</td>\n",
       "      <td>...</td>\n",
       "      <td>3664.436218</td>\n",
       "      <td>61085.809570</td>\n",
       "      <td>2615.120483</td>\n",
       "      <td>15.568533</td>\n",
       "      <td>0.272292</td>\n",
       "      <td>-12.628986</td>\n",
       "      <td>35.632416</td>\n",
       "      <td>-138.786423</td>\n",
       "      <td>30.752140</td>\n",
       "      <td>3.750994</td>\n",
       "    </tr>\n",
       "    <tr>\n",
       "      <th>1</th>\n",
       "      <td>ID_-0.510_29.290_2019_01</td>\n",
       "      <td>-0.51</td>\n",
       "      <td>29.29</td>\n",
       "      <td>2019</td>\n",
       "      <td>1</td>\n",
       "      <td>0.000021</td>\n",
       "      <td>0.728214</td>\n",
       "      <td>0.000014</td>\n",
       "      <td>0.130988</td>\n",
       "      <td>16.592861</td>\n",
       "      <td>...</td>\n",
       "      <td>3651.190311</td>\n",
       "      <td>66969.478735</td>\n",
       "      <td>3174.572424</td>\n",
       "      <td>8.690601</td>\n",
       "      <td>0.256830</td>\n",
       "      <td>30.359375</td>\n",
       "      <td>39.557633</td>\n",
       "      <td>-145.183930</td>\n",
       "      <td>27.251779</td>\n",
       "      <td>4.025176</td>\n",
       "    </tr>\n",
       "    <tr>\n",
       "      <th>2</th>\n",
       "      <td>ID_-0.510_29.290_2019_02</td>\n",
       "      <td>-0.51</td>\n",
       "      <td>29.29</td>\n",
       "      <td>2019</td>\n",
       "      <td>2</td>\n",
       "      <td>0.000514</td>\n",
       "      <td>0.748199</td>\n",
       "      <td>0.000385</td>\n",
       "      <td>0.110018</td>\n",
       "      <td>72.795837</td>\n",
       "      <td>...</td>\n",
       "      <td>4216.986492</td>\n",
       "      <td>60068.894448</td>\n",
       "      <td>3516.282669</td>\n",
       "      <td>21.103410</td>\n",
       "      <td>0.251101</td>\n",
       "      <td>15.377883</td>\n",
       "      <td>30.401823</td>\n",
       "      <td>-142.519545</td>\n",
       "      <td>26.193296</td>\n",
       "      <td>4.231381</td>\n",
       "    </tr>\n",
       "    <tr>\n",
       "      <th>3</th>\n",
       "      <td>ID_-0.510_29.290_2019_03</td>\n",
       "      <td>-0.51</td>\n",
       "      <td>29.29</td>\n",
       "      <td>2019</td>\n",
       "      <td>3</td>\n",
       "      <td>0.000048</td>\n",
       "      <td>0.834848</td>\n",
       "      <td>0.000035</td>\n",
       "      <td>0.158418</td>\n",
       "      <td>-7.925870</td>\n",
       "      <td>...</td>\n",
       "      <td>5228.507736</td>\n",
       "      <td>51064.547339</td>\n",
       "      <td>4180.973322</td>\n",
       "      <td>15.386899</td>\n",
       "      <td>0.262043</td>\n",
       "      <td>-11.293399</td>\n",
       "      <td>24.380357</td>\n",
       "      <td>-132.665828</td>\n",
       "      <td>28.829155</td>\n",
       "      <td>4.305286</td>\n",
       "    </tr>\n",
       "    <tr>\n",
       "      <th>4</th>\n",
       "      <td>ID_-0.510_29.290_2019_04</td>\n",
       "      <td>-0.51</td>\n",
       "      <td>29.29</td>\n",
       "      <td>2019</td>\n",
       "      <td>4</td>\n",
       "      <td>-0.000079</td>\n",
       "      <td>0.676296</td>\n",
       "      <td>-0.000048</td>\n",
       "      <td>0.121164</td>\n",
       "      <td>4.121269</td>\n",
       "      <td>...</td>\n",
       "      <td>3980.598120</td>\n",
       "      <td>63751.125781</td>\n",
       "      <td>3355.710107</td>\n",
       "      <td>8.114694</td>\n",
       "      <td>0.235847</td>\n",
       "      <td>38.532263</td>\n",
       "      <td>37.392979</td>\n",
       "      <td>-141.509805</td>\n",
       "      <td>22.204612</td>\n",
       "      <td>4.347317</td>\n",
       "    </tr>\n",
       "  </tbody>\n",
       "</table>\n",
       "<p>5 rows × 57 columns</p>\n",
       "</div>"
      ],
      "text/plain": [
       "       ID_LAT_LON_YEAR_WEEK  latitude  longitude  year  week_no  \\\n",
       "0  ID_-0.510_29.290_2019_00     -0.51      29.29  2019        0   \n",
       "1  ID_-0.510_29.290_2019_01     -0.51      29.29  2019        1   \n",
       "2  ID_-0.510_29.290_2019_02     -0.51      29.29  2019        2   \n",
       "3  ID_-0.510_29.290_2019_03     -0.51      29.29  2019        3   \n",
       "4  ID_-0.510_29.290_2019_04     -0.51      29.29  2019        4   \n",
       "\n",
       "   SulphurDioxide_SO2_column_number_density  \\\n",
       "0                                 -0.000108   \n",
       "1                                  0.000021   \n",
       "2                                  0.000514   \n",
       "3                                  0.000048   \n",
       "4                                 -0.000079   \n",
       "\n",
       "   SulphurDioxide_SO2_column_number_density_amf  \\\n",
       "0                                      0.603019   \n",
       "1                                      0.728214   \n",
       "2                                      0.748199   \n",
       "3                                      0.834848   \n",
       "4                                      0.676296   \n",
       "\n",
       "   SulphurDioxide_SO2_slant_column_number_density  \\\n",
       "0                                       -0.000065   \n",
       "1                                        0.000014   \n",
       "2                                        0.000385   \n",
       "3                                        0.000035   \n",
       "4                                       -0.000048   \n",
       "\n",
       "   SulphurDioxide_cloud_fraction  SulphurDioxide_sensor_azimuth_angle  ...  \\\n",
       "0                       0.255668                           -98.593887  ...   \n",
       "1                       0.130988                            16.592861  ...   \n",
       "2                       0.110018                            72.795837  ...   \n",
       "3                       0.158418                            -7.925870  ...   \n",
       "4                       0.121164                             4.121269  ...   \n",
       "\n",
       "   Cloud_cloud_top_height  Cloud_cloud_base_pressure  Cloud_cloud_base_height  \\\n",
       "0             3664.436218               61085.809570              2615.120483   \n",
       "1             3651.190311               66969.478735              3174.572424   \n",
       "2             4216.986492               60068.894448              3516.282669   \n",
       "3             5228.507736               51064.547339              4180.973322   \n",
       "4             3980.598120               63751.125781              3355.710107   \n",
       "\n",
       "   Cloud_cloud_optical_depth  Cloud_surface_albedo  \\\n",
       "0                  15.568533              0.272292   \n",
       "1                   8.690601              0.256830   \n",
       "2                  21.103410              0.251101   \n",
       "3                  15.386899              0.262043   \n",
       "4                   8.114694              0.235847   \n",
       "\n",
       "   Cloud_sensor_azimuth_angle  Cloud_sensor_zenith_angle  \\\n",
       "0                  -12.628986                  35.632416   \n",
       "1                   30.359375                  39.557633   \n",
       "2                   15.377883                  30.401823   \n",
       "3                  -11.293399                  24.380357   \n",
       "4                   38.532263                  37.392979   \n",
       "\n",
       "   Cloud_solar_azimuth_angle  Cloud_solar_zenith_angle  emission  \n",
       "0                -138.786423                 30.752140  3.750994  \n",
       "1                -145.183930                 27.251779  4.025176  \n",
       "2                -142.519545                 26.193296  4.231381  \n",
       "3                -132.665828                 28.829155  4.305286  \n",
       "4                -141.509805                 22.204612  4.347317  \n",
       "\n",
       "[5 rows x 57 columns]"
      ]
     },
     "execution_count": 113,
     "metadata": {},
     "output_type": "execute_result"
    }
   ],
   "source": [
    "train.head()"
   ]
  },
  {
   "cell_type": "code",
   "execution_count": 114,
   "metadata": {},
   "outputs": [],
   "source": [
    "X= train.drop(['ID_LAT_LON_YEAR_WEEK','latitude','longitude','year','week_no','emission'],axis=1)\n",
    "y= train['emission']"
   ]
  },
  {
   "cell_type": "code",
   "execution_count": 115,
   "metadata": {},
   "outputs": [],
   "source": [
    "from sklearn.model_selection import train_test_split\n",
    "X_train,X_val,y_train,y_val= train_test_split(X,y,test_size=0.23,random_state=41)"
   ]
  },
  {
   "cell_type": "code",
   "execution_count": 116,
   "metadata": {},
   "outputs": [
    {
     "data": {
      "text/html": [
       "<style>#sk-container-id-3 {color: black;}#sk-container-id-3 pre{padding: 0;}#sk-container-id-3 div.sk-toggleable {background-color: white;}#sk-container-id-3 label.sk-toggleable__label {cursor: pointer;display: block;width: 100%;margin-bottom: 0;padding: 0.3em;box-sizing: border-box;text-align: center;}#sk-container-id-3 label.sk-toggleable__label-arrow:before {content: \"▸\";float: left;margin-right: 0.25em;color: #696969;}#sk-container-id-3 label.sk-toggleable__label-arrow:hover:before {color: black;}#sk-container-id-3 div.sk-estimator:hover label.sk-toggleable__label-arrow:before {color: black;}#sk-container-id-3 div.sk-toggleable__content {max-height: 0;max-width: 0;overflow: hidden;text-align: left;background-color: #f0f8ff;}#sk-container-id-3 div.sk-toggleable__content pre {margin: 0.2em;color: black;border-radius: 0.25em;background-color: #f0f8ff;}#sk-container-id-3 input.sk-toggleable__control:checked~div.sk-toggleable__content {max-height: 200px;max-width: 100%;overflow: auto;}#sk-container-id-3 input.sk-toggleable__control:checked~label.sk-toggleable__label-arrow:before {content: \"▾\";}#sk-container-id-3 div.sk-estimator input.sk-toggleable__control:checked~label.sk-toggleable__label {background-color: #d4ebff;}#sk-container-id-3 div.sk-label input.sk-toggleable__control:checked~label.sk-toggleable__label {background-color: #d4ebff;}#sk-container-id-3 input.sk-hidden--visually {border: 0;clip: rect(1px 1px 1px 1px);clip: rect(1px, 1px, 1px, 1px);height: 1px;margin: -1px;overflow: hidden;padding: 0;position: absolute;width: 1px;}#sk-container-id-3 div.sk-estimator {font-family: monospace;background-color: #f0f8ff;border: 1px dotted black;border-radius: 0.25em;box-sizing: border-box;margin-bottom: 0.5em;}#sk-container-id-3 div.sk-estimator:hover {background-color: #d4ebff;}#sk-container-id-3 div.sk-parallel-item::after {content: \"\";width: 100%;border-bottom: 1px solid gray;flex-grow: 1;}#sk-container-id-3 div.sk-label:hover label.sk-toggleable__label {background-color: #d4ebff;}#sk-container-id-3 div.sk-serial::before {content: \"\";position: absolute;border-left: 1px solid gray;box-sizing: border-box;top: 0;bottom: 0;left: 50%;z-index: 0;}#sk-container-id-3 div.sk-serial {display: flex;flex-direction: column;align-items: center;background-color: white;padding-right: 0.2em;padding-left: 0.2em;position: relative;}#sk-container-id-3 div.sk-item {position: relative;z-index: 1;}#sk-container-id-3 div.sk-parallel {display: flex;align-items: stretch;justify-content: center;background-color: white;position: relative;}#sk-container-id-3 div.sk-item::before, #sk-container-id-3 div.sk-parallel-item::before {content: \"\";position: absolute;border-left: 1px solid gray;box-sizing: border-box;top: 0;bottom: 0;left: 50%;z-index: -1;}#sk-container-id-3 div.sk-parallel-item {display: flex;flex-direction: column;z-index: 1;position: relative;background-color: white;}#sk-container-id-3 div.sk-parallel-item:first-child::after {align-self: flex-end;width: 50%;}#sk-container-id-3 div.sk-parallel-item:last-child::after {align-self: flex-start;width: 50%;}#sk-container-id-3 div.sk-parallel-item:only-child::after {width: 0;}#sk-container-id-3 div.sk-dashed-wrapped {border: 1px dashed gray;margin: 0 0.4em 0.5em 0.4em;box-sizing: border-box;padding-bottom: 0.4em;background-color: white;}#sk-container-id-3 div.sk-label label {font-family: monospace;font-weight: bold;display: inline-block;line-height: 1.2em;}#sk-container-id-3 div.sk-label-container {text-align: center;}#sk-container-id-3 div.sk-container {/* jupyter's `normalize.less` sets `[hidden] { display: none; }` but bootstrap.min.css set `[hidden] { display: none !important; }` so we also need the `!important` here to be able to override the default hidden behavior on the sphinx rendered scikit-learn.org. See: https://github.com/scikit-learn/scikit-learn/issues/21755 */display: inline-block !important;position: relative;}#sk-container-id-3 div.sk-text-repr-fallback {display: none;}</style><div id=\"sk-container-id-3\" class=\"sk-top-container\"><div class=\"sk-text-repr-fallback\"><pre>KNeighborsRegressor()</pre><b>In a Jupyter environment, please rerun this cell to show the HTML representation or trust the notebook. <br />On GitHub, the HTML representation is unable to render, please try loading this page with nbviewer.org.</b></div><div class=\"sk-container\" hidden><div class=\"sk-item\"><div class=\"sk-estimator sk-toggleable\"><input class=\"sk-toggleable__control sk-hidden--visually\" id=\"sk-estimator-id-3\" type=\"checkbox\" checked><label for=\"sk-estimator-id-3\" class=\"sk-toggleable__label sk-toggleable__label-arrow\">KNeighborsRegressor</label><div class=\"sk-toggleable__content\"><pre>KNeighborsRegressor()</pre></div></div></div></div></div>"
      ],
      "text/plain": [
       "KNeighborsRegressor()"
      ]
     },
     "execution_count": 116,
     "metadata": {},
     "output_type": "execute_result"
    }
   ],
   "source": [
    "KNN.fit(X_train,y_train)"
   ]
  },
  {
   "cell_type": "code",
   "execution_count": 127,
   "metadata": {},
   "outputs": [
    {
     "data": {
      "text/html": [
       "<style>#sk-container-id-4 {color: black;}#sk-container-id-4 pre{padding: 0;}#sk-container-id-4 div.sk-toggleable {background-color: white;}#sk-container-id-4 label.sk-toggleable__label {cursor: pointer;display: block;width: 100%;margin-bottom: 0;padding: 0.3em;box-sizing: border-box;text-align: center;}#sk-container-id-4 label.sk-toggleable__label-arrow:before {content: \"▸\";float: left;margin-right: 0.25em;color: #696969;}#sk-container-id-4 label.sk-toggleable__label-arrow:hover:before {color: black;}#sk-container-id-4 div.sk-estimator:hover label.sk-toggleable__label-arrow:before {color: black;}#sk-container-id-4 div.sk-toggleable__content {max-height: 0;max-width: 0;overflow: hidden;text-align: left;background-color: #f0f8ff;}#sk-container-id-4 div.sk-toggleable__content pre {margin: 0.2em;color: black;border-radius: 0.25em;background-color: #f0f8ff;}#sk-container-id-4 input.sk-toggleable__control:checked~div.sk-toggleable__content {max-height: 200px;max-width: 100%;overflow: auto;}#sk-container-id-4 input.sk-toggleable__control:checked~label.sk-toggleable__label-arrow:before {content: \"▾\";}#sk-container-id-4 div.sk-estimator input.sk-toggleable__control:checked~label.sk-toggleable__label {background-color: #d4ebff;}#sk-container-id-4 div.sk-label input.sk-toggleable__control:checked~label.sk-toggleable__label {background-color: #d4ebff;}#sk-container-id-4 input.sk-hidden--visually {border: 0;clip: rect(1px 1px 1px 1px);clip: rect(1px, 1px, 1px, 1px);height: 1px;margin: -1px;overflow: hidden;padding: 0;position: absolute;width: 1px;}#sk-container-id-4 div.sk-estimator {font-family: monospace;background-color: #f0f8ff;border: 1px dotted black;border-radius: 0.25em;box-sizing: border-box;margin-bottom: 0.5em;}#sk-container-id-4 div.sk-estimator:hover {background-color: #d4ebff;}#sk-container-id-4 div.sk-parallel-item::after {content: \"\";width: 100%;border-bottom: 1px solid gray;flex-grow: 1;}#sk-container-id-4 div.sk-label:hover label.sk-toggleable__label {background-color: #d4ebff;}#sk-container-id-4 div.sk-serial::before {content: \"\";position: absolute;border-left: 1px solid gray;box-sizing: border-box;top: 0;bottom: 0;left: 50%;z-index: 0;}#sk-container-id-4 div.sk-serial {display: flex;flex-direction: column;align-items: center;background-color: white;padding-right: 0.2em;padding-left: 0.2em;position: relative;}#sk-container-id-4 div.sk-item {position: relative;z-index: 1;}#sk-container-id-4 div.sk-parallel {display: flex;align-items: stretch;justify-content: center;background-color: white;position: relative;}#sk-container-id-4 div.sk-item::before, #sk-container-id-4 div.sk-parallel-item::before {content: \"\";position: absolute;border-left: 1px solid gray;box-sizing: border-box;top: 0;bottom: 0;left: 50%;z-index: -1;}#sk-container-id-4 div.sk-parallel-item {display: flex;flex-direction: column;z-index: 1;position: relative;background-color: white;}#sk-container-id-4 div.sk-parallel-item:first-child::after {align-self: flex-end;width: 50%;}#sk-container-id-4 div.sk-parallel-item:last-child::after {align-self: flex-start;width: 50%;}#sk-container-id-4 div.sk-parallel-item:only-child::after {width: 0;}#sk-container-id-4 div.sk-dashed-wrapped {border: 1px dashed gray;margin: 0 0.4em 0.5em 0.4em;box-sizing: border-box;padding-bottom: 0.4em;background-color: white;}#sk-container-id-4 div.sk-label label {font-family: monospace;font-weight: bold;display: inline-block;line-height: 1.2em;}#sk-container-id-4 div.sk-label-container {text-align: center;}#sk-container-id-4 div.sk-container {/* jupyter's `normalize.less` sets `[hidden] { display: none; }` but bootstrap.min.css set `[hidden] { display: none !important; }` so we also need the `!important` here to be able to override the default hidden behavior on the sphinx rendered scikit-learn.org. See: https://github.com/scikit-learn/scikit-learn/issues/21755 */display: inline-block !important;position: relative;}#sk-container-id-4 div.sk-text-repr-fallback {display: none;}</style><div id=\"sk-container-id-4\" class=\"sk-top-container\"><div class=\"sk-text-repr-fallback\"><pre>LinearRegression()</pre><b>In a Jupyter environment, please rerun this cell to show the HTML representation or trust the notebook. <br />On GitHub, the HTML representation is unable to render, please try loading this page with nbviewer.org.</b></div><div class=\"sk-container\" hidden><div class=\"sk-item\"><div class=\"sk-estimator sk-toggleable\"><input class=\"sk-toggleable__control sk-hidden--visually\" id=\"sk-estimator-id-4\" type=\"checkbox\" checked><label for=\"sk-estimator-id-4\" class=\"sk-toggleable__label sk-toggleable__label-arrow\">LinearRegression</label><div class=\"sk-toggleable__content\"><pre>LinearRegression()</pre></div></div></div></div></div>"
      ],
      "text/plain": [
       "LinearRegression()"
      ]
     },
     "execution_count": 127,
     "metadata": {},
     "output_type": "execute_result"
    }
   ],
   "source": [
    "LR.fit(X_train,y_train)"
   ]
  },
  {
   "cell_type": "code",
   "execution_count": 117,
   "metadata": {},
   "outputs": [],
   "source": [
    "pred= KNN.predict(X_val)"
   ]
  },
  {
   "cell_type": "code",
   "execution_count": 128,
   "metadata": {},
   "outputs": [],
   "source": [
    "LR_pred= LR.predict(X_val)"
   ]
  },
  {
   "cell_type": "code",
   "execution_count": 131,
   "metadata": {},
   "outputs": [
    {
     "name": "stdout",
     "output_type": "stream",
     "text": [
      "Mean absolute error and Mean squared error of KNN is 80.9382438197526 and24976.34709052733\n"
     ]
    }
   ],
   "source": [
    "from sklearn.metrics import mean_absolute_error , mean_squared_error\n",
    "mse=mean_squared_error(y_val,pred)\n",
    "mae=mean_absolute_error(y_val,pred)\n",
    "print(f\"Mean absolute error and Mean squared error of KNN is {mae} and{mse}\")"
   ]
  },
  {
   "cell_type": "code",
   "execution_count": 130,
   "metadata": {},
   "outputs": [
    {
     "name": "stdout",
     "output_type": "stream",
     "text": [
      "Mean absolute error and Mean squared error of KNN is 71.10608425524033 and 21032.345183468227\n"
     ]
    }
   ],
   "source": [
    "LR_mse=mean_squared_error(y_val,LR_pred)\n",
    "LR_mae=mean_absolute_error(y_val,LR_pred)\n",
    "print(f\"Mean absolute error and Mean squared error of KNN is {LR_mae} and {LR_mse}\")"
   ]
  },
  {
   "cell_type": "code",
   "execution_count": 119,
   "metadata": {},
   "outputs": [
    {
     "data": {
      "text/plain": [
       "array([ 23.61932966, 110.27624507, 209.09370272, ..., 121.367377  ,\n",
       "        75.31658928,  55.92799664])"
      ]
     },
     "execution_count": 119,
     "metadata": {},
     "output_type": "execute_result"
    }
   ],
   "source": [
    "pred"
   ]
  },
  {
   "cell_type": "code",
   "execution_count": 120,
   "metadata": {},
   "outputs": [],
   "source": [
    "X_test = test.drop(['ID_LAT_LON_YEAR_WEEK','latitude','longitude','year','week_no'],axis=1)\n"
   ]
  },
  {
   "cell_type": "code",
   "execution_count": 121,
   "metadata": {},
   "outputs": [],
   "source": [
    "pred_emmission= KNN.predict(X_test)"
   ]
  },
  {
   "cell_type": "code",
   "execution_count": 132,
   "metadata": {},
   "outputs": [],
   "source": [
    "LR_pred_emmission= LR.predict(X_test)"
   ]
  },
  {
   "cell_type": "code",
   "execution_count": 122,
   "metadata": {},
   "outputs": [
    {
     "data": {
      "text/plain": [
       "array([ 32.22215811, 145.47795114, 150.8912806 , ...,  83.1707071 ,\n",
       "        68.9977028 ,  55.9431452 ])"
      ]
     },
     "execution_count": 122,
     "metadata": {},
     "output_type": "execute_result"
    }
   ],
   "source": [
    "pred_emmission"
   ]
  },
  {
   "cell_type": "code",
   "execution_count": 123,
   "metadata": {},
   "outputs": [],
   "source": [
    "df= pd.DataFrame({\"ID_LAT_LON_YEAR_WEEK\":test['ID_LAT_LON_YEAR_WEEK'].values,\"emission\":pred_emmission})"
   ]
  },
  {
   "cell_type": "code",
   "execution_count": 133,
   "metadata": {},
   "outputs": [],
   "source": [
    "LR_df= pd.DataFrame({\"ID_LAT_LON_YEAR_WEEK\":test['ID_LAT_LON_YEAR_WEEK'].values,\"emission\":LR_pred_emmission})"
   ]
  },
  {
   "cell_type": "code",
   "execution_count": 125,
   "metadata": {},
   "outputs": [],
   "source": [
    "df.to_csv(\"submission.csv\",index=False)"
   ]
  },
  {
   "cell_type": "code",
   "execution_count": 134,
   "metadata": {},
   "outputs": [],
   "source": [
    "LR_df.to_csv(\"LR_submission.csv\",index=False)"
   ]
  },
  {
   "cell_type": "code",
   "execution_count": null,
   "metadata": {},
   "outputs": [],
   "source": []
  }
 ],
 "metadata": {
  "kernelspec": {
   "display_name": "Python 3",
   "language": "python",
   "name": "python3"
  },
  "language_info": {
   "codemirror_mode": {
    "name": "ipython",
    "version": 3
   },
   "file_extension": ".py",
   "mimetype": "text/x-python",
   "name": "python",
   "nbconvert_exporter": "python",
   "pygments_lexer": "ipython3",
   "version": "3.11.0"
  },
  "orig_nbformat": 4
 },
 "nbformat": 4,
 "nbformat_minor": 2
}
